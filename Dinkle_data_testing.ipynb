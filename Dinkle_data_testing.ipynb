{
  "cells": [
    {
      "cell_type": "markdown",
      "source": [
        "#Model Testing\n",
        "Input:\n",
        "\n",
        "> If you didn't run testing right after training model, then you need to load model.\n",
        ">> model class and setting\n",
        "\n",
        ">> model.pt\n",
        "\n",
        "> And\n",
        ">> X_test : testing data  (testing_data_num, sequence_num, feature_num)\n",
        "\n",
        ">> Y_test : testing label (testing_data_num, output_num)\n",
        "\n",
        "Output:\n",
        "\n",
        "> test.csv : 將所有資料及預測結果存入csv中, 包含data,真實值,預測值,真實良品/不良品, 預測良品/不良品\n",
        "\n",
        "> Accuracy : 整體準確率、良品預測準確率、不良品預測準確率\n",
        "\n",
        "> X_test_correct & X_test_wrong : 預測正確/錯誤的testing data\n",
        "\n",
        "> Confusion matrix"
      ],
      "metadata": {
        "id": "cLlU1wydoofc"
      }
    },
    {
      "cell_type": "code",
      "source": [
        "import pandas as pd\n",
        "import numpy as np\n",
        "import torch, torchvision\n",
        "from torchvision import datasets, transforms\n",
        "from torch import nn, optim\n",
        "from torch.nn import functional as F\n",
        "import matplotlib.pyplot as plt\n",
        "\n",
        "# below is for loading data from google drive\n",
        "from google.colab import drive\n",
        "drive.mount('/content/drive', force_remount=True)\n",
        "\n",
        "sequence_num = 100\n",
        "print(\"Sequence number: \", sequence_num)\n",
        "\n",
        "# put your folder path, ex: '/content/drive/MyDrive/.../'\n",
        "folder_path = 'folderpath'\n",
        "\n",
        "# put model name, ex: 'model.pt' for model path\n",
        "model_path = folder_path + 'modelname'\n",
        "\n",
        "# put testing data and label npy file path, ex: 'x_test.npy', 'y_test.npy'\n",
        "X_test = np.load(folder_path + 'x_test.npy')\n",
        "Y_test = np.load(folder_path + 'y_test.npy')\n",
        "print(X_test.shape) #(testing_data_num, sequence_num, feature_num)\n",
        "print(Y_test.shape) #(testing_data_num, output_num)"
      ],
      "metadata": {
        "colab": {
          "base_uri": "https://localhost:8080/"
        },
        "id": "qpZMqik7duel",
        "outputId": "cc7bd5aa-8e70-424f-d57e-ac872fa9316a"
      },
      "execution_count": null,
      "outputs": [
        {
          "output_type": "stream",
          "name": "stdout",
          "text": [
            "Mounted at /content/drive\n",
            "Sequence number:  100\n",
            "(144, 100, 3)\n",
            "(144, 26)\n"
          ]
        }
      ]
    },
    {
      "cell_type": "markdown",
      "source": [
        "#Load model\n",
        "Model class and setting for load model.\n",
        "If you testing after training model, you can pass."
      ],
      "metadata": {
        "id": "l9FuqFAMkleo"
      }
    },
    {
      "cell_type": "code",
      "source": [
        "\"\"\"\n",
        "model class, should cpoy from training model\n",
        "\"\"\"\n",
        "class BiLSTM_layer(nn.Module):\n",
        "  pass\n",
        "\n",
        "class DataEncoder(nn.Module):\n",
        "  pass\n",
        "\n",
        "class minmax_RuleEncoder(nn.Module):\n",
        "  pass\n",
        "    \n",
        "class outbound_RuleEncoder(nn.Module):\n",
        "  pass\n",
        "    \n",
        "class DataonlyNet(nn.Module):\n",
        "  pass\n",
        "\n",
        "class Net(nn.Module):\n",
        "  pass"
      ],
      "metadata": {
        "id": "eiLVi1k1eNfL"
      },
      "execution_count": null,
      "outputs": []
    },
    {
      "cell_type": "code",
      "source": [
        "\"\"\"\n",
        "model setting, should cpoy from training model\n",
        "\"\"\"\n",
        "# merge = \n",
        "\n",
        "# input_dim = \n",
        "# input_dim_encoder = \n",
        "# output_dim_encoder = \n",
        "# hidden_dim_encoder = \n",
        "# hidden_dim_db = \n",
        "# output_dim_encoder = output_dim_encoder\n",
        "# hidden_dim_encoder = hidden_dim_encoder\n",
        "# hidden_dim_db = hidden_dim_db\n",
        "# output_dim = \n",
        "# n_layers = \n",
        "# use_type=''\n",
        "\n",
        "# outbound_rule_encoder = outbound_RuleEncoder(input_dim, output_dim_encoder, hidden_dim_encoder,dropout=0.3)\n",
        "# minmax_rule_encoder = minmax_RuleEncoder(input_dim, output_dim_encoder, hidden_dim_encoder,dropout=0.3)\n",
        "# data_encoder = DataEncoder(input_dim, output_dim_encoder, hidden_dim_encoder,dropout=0.3)\n",
        "\n",
        "# if use_type=='no_rule':\n",
        "#   model = Net(input_dim, output_dim, minmax_rule_encoder, outbound_rule_encoder, data_encoder, hidden_dim=hidden_dim_db, n_layers=n_layers, merge=merge)\n",
        "# else:\n",
        "#   model =DataonlyNet (input_dim, output_dim, data_encoder, hidden_dim=hidden_dim_db, n_layers=n_layers)"
      ],
      "metadata": {
        "id": "gqwEM_Icedib"
      },
      "execution_count": null,
      "outputs": []
    },
    {
      "cell_type": "code",
      "source": [
        "\"\"\"\n",
        "Load model, and change X_test to tensor\n",
        "\"\"\"\n",
        "model = torch.load(model_path)\n",
        "model.eval()\n",
        "\n",
        "X_test = torch.tensor(X_test).to(torch.float32)"
      ],
      "metadata": {
        "id": "mqHwE_iXkqij"
      },
      "execution_count": null,
      "outputs": []
    },
    {
      "cell_type": "markdown",
      "source": [
        "#Testing"
      ],
      "metadata": {
        "id": "T8n5R8KzksjO"
      }
    },
    {
      "cell_type": "code",
      "source": [
        "\"\"\"\n",
        "Testing\n",
        "\"\"\"\n",
        "with torch.no_grad():\n",
        "  pred = model(X_test, alpha=0.1, beta=0.1)\n",
        "\n",
        "print(\"Done\")"
      ],
      "metadata": {
        "colab": {
          "base_uri": "https://localhost:8080/"
        },
        "id": "DIk1Trzfefc8",
        "outputId": "11e10508-e674-48ca-89e4-6bec74532fe1"
      },
      "execution_count": null,
      "outputs": [
        {
          "output_type": "stream",
          "name": "stdout",
          "text": [
            "Done\n"
          ]
        }
      ]
    },
    {
      "cell_type": "code",
      "source": [
        "\"\"\"\n",
        "規格判斷, data可以是真實或預測結果, partNo為料號編號\n",
        "\"\"\"\n",
        "def measure_std(data, partNo):\n",
        "  measure = []\n",
        "  for data_num in range(len(data)):\n",
        "    partNo = partNo\n",
        "    if partNo == \"0162B00100\":\n",
        "      max_std = [3.35, 2.30, 6.30, 2.77, 2.30, 3.37, 2.54, 0.42, 0.63, 0.63, 0.63, 0.63, 0.63]\n",
        "      min_std = [3.25, 2.20, 6.14, 2.63, 2.10, 3.23, 2.34, 0.38, 0.53, 0.53, 0.53, 0.53, 0.53]\n",
        "\n",
        "    elif partNo == \"0162B00200\":\n",
        "      max_std = [3.35, 2.30, 6.30, 2.77, 3.37, 2.54, 0.42, 2.30, 0.63, 0.63, 0.63, 0.63, 0.63]\n",
        "      min_std = [3.25, 2.20, 6.14, 2.63, 3.23, 2.34, 0.38, 2.10, 0.53, 0.53, 0.53, 0.53, 0.53]\n",
        "\n",
        "    elif partNo == \"0162B00200-1\":\n",
        "      max_std = [2.28, 2.28, 2.28, 2.28, 3.35, 3.35, 2.29, 2.29, 10.48, 14.50, 1.19, 1.36, 136.50]\n",
        "      min_std = [2.12, 2.12, 2.12, 2.12, 3.25, 3.25, 2.21, 2.21, 10.32, 14.10, 1.13, 1.20, 133.50]\n",
        "\n",
        "    elif partNo == \"0162B01100\":\n",
        "      max_std = [3.35, 2.30, 6.30, 2.77, 3.37, 2.54, 0.42, 2.30, 0.63, 0.63, 0.63, 0.63, 0.63]\n",
        "      min_std = [3.25, 2.20, 6.14, 2.63, 3.23, 2.34, 0.38, 2.10, 0.53, 0.53, 0.53, 0.53, 0.53]\n",
        "\n",
        "    elif partNo == \"0162B01100-1\":\n",
        "      max_std = [2.28, 2.28, 2.28, 2.28, 3.35, 3.35, 2.29, 2.29, 10.48, 14.50, 1.19, 1.36, 136.50]\n",
        "      min_std = [2.12, 2.12, 2.12, 2.12, 3.25, 3.25, 2.21, 2.21, 10.32, 14.10, 1.13, 1.20, 133.50]\n",
        "\n",
        "    else:\n",
        "      return \"Error\"\n",
        "\n",
        "    wrong = False\n",
        "    for detail_num in range(13):\n",
        "      if data[data_num][detail_num] > max_std[detail_num] or data[data_num][detail_num] < min_std[detail_num]:\n",
        "        wrong = True\n",
        "      \n",
        "      if data[data_num][detail_num+13] > max_std[detail_num] or data[data_num][detail_num+13] < min_std[detail_num]: \n",
        "        wrong = True\n",
        "\n",
        "    if wrong == True:\n",
        "      measure.append(0) # notok\n",
        "    else:\n",
        "      measure.append(1) # ok\n",
        "\n",
        "  return measure"
      ],
      "metadata": {
        "id": "rWKb6WlcJaiK"
      },
      "execution_count": null,
      "outputs": []
    },
    {
      "cell_type": "code",
      "execution_count": null,
      "metadata": {
        "id": "jSmDeWbKulPT",
        "colab": {
          "base_uri": "https://localhost:8080/"
        },
        "outputId": "6c2450cc-dc83-47df-c71b-dd2433e739e3"
      },
      "outputs": [
        {
          "output_type": "stream",
          "name": "stdout",
          "text": [
            "       0    1         2      3    4         5      6    7         8      9  \\\n",
            "0  321.0  2.0  5.366667  321.0  2.0  5.350000  321.0  2.0  5.350000  321.0   \n",
            "1  330.0  2.0  2.866667  346.0  1.0  3.966667  330.0  2.0  5.483333  330.0   \n",
            "2  310.0  2.0  5.150000  310.0  2.0  5.183333  310.0  2.0  0.183333  325.0   \n",
            "3  310.0  2.0  5.133333  310.0  2.0  5.150000  310.0  2.0  5.116667  310.0   \n",
            "4  310.0  2.0  5.133333  310.0  2.0  5.183333  310.0  2.0  2.950000  325.0   \n",
            "5  325.0  1.0  0.950000  310.0  2.0  5.133333  310.0  2.0  5.150000  310.0   \n",
            "6  310.0  2.0  5.150000  310.0  2.0  5.150000  310.0  2.0  5.166667  310.0   \n",
            "7  321.0  1.0  5.366667  321.0  2.0  2.833333  348.0  1.0  3.083333  188.0   \n",
            "8   52.0  4.0  0.016667  224.0  4.0  0.016667  421.0  1.0  0.900000  401.0   \n",
            "9  351.0  1.0  4.116667  334.0  2.0  5.566667  334.0  2.0  5.566667  334.0   \n",
            "\n",
            "   ...  true23    pred23  true24    pred24  true25    pred25  true26  \\\n",
            "0  ...   0.546  0.573602   0.553  0.559123   0.551  0.554407   0.543   \n",
            "1  ...   0.536  0.573601   0.539  0.559118   0.537  0.554409   0.548   \n",
            "2  ...   0.555  0.573606   0.538  0.559122   0.542  0.554409   0.541   \n",
            "3  ...   0.571  0.573606   0.566  0.559122   0.559  0.554409   0.567   \n",
            "4  ...   0.560  0.573608   0.562  0.559122   0.557  0.554410   0.549   \n",
            "5  ...   0.547  0.573604   0.558  0.559123   0.556  0.554408   0.565   \n",
            "6  ...   0.572  0.573606   0.589  0.559119   0.573  0.554406   0.575   \n",
            "7  ...   0.535  0.573532   0.541  0.558951   0.536  0.554261   0.540   \n",
            "8  ...   0.554  0.572129   0.551  0.560537   0.548  0.545549   0.542   \n",
            "9  ...   0.544  0.573811   0.551  0.559011   0.554  0.554565   0.543   \n",
            "\n",
            "     pred26  measure_true  measure_pred  \n",
            "0  0.560764             1             1  \n",
            "1  0.560766             1             1  \n",
            "2  0.560762             1             1  \n",
            "3  0.560762             1             1  \n",
            "4  0.560762             1             1  \n",
            "5  0.560763             1             1  \n",
            "6  0.560760             1             1  \n",
            "7  0.560646             1             1  \n",
            "8  0.565532             1             0  \n",
            "9  0.560713             1             1  \n",
            "\n",
            "[10 rows x 354 columns]\n"
          ]
        }
      ],
      "source": [
        "\"\"\"\n",
        "將所有資料以dataframe形式存入csv中\n",
        "欄位0~299為data, true+編號 為真實值, pred+編號 為預測值,\n",
        " measure_true為真實良品/不良品, measure_pred為預測良品/不良品\n",
        "\"\"\"\n",
        "df = pd.DataFrame(X_test.reshape(-1, sequence_num*3).numpy())\n",
        "y_df = pd.DataFrame(Y_test)\n",
        "p_df = pd.DataFrame(pred.numpy())\n",
        "\n",
        "for i in range(26):\n",
        "  df['true'+str(i+1)] = y_df[i]\n",
        "  df['pred'+str(i+1)] = p_df[i]\n",
        "\n",
        "measure_true = np.array(measure_std(Y_test, \"0162B00100\"))\n",
        "measure_pred = np.array(measure_std(pred, \"0162B00100\"))\n",
        "\n",
        "df['measure_true'] = measure_true\n",
        "df['measure_pred'] = measure_pred\n",
        "\n",
        "df.to_csv(folder_path +\"/test.csv\", header=True, index=True) \n",
        "print(df.head(10))"
      ]
    },
    {
      "cell_type": "code",
      "source": [
        "\"\"\"\n",
        "計算個數及準確率\n",
        "整體準確率 = (真實良品&預測良品筆數 + 真實不良品&預測不良品筆數) / 總筆數 \n",
        "良品準確率 = 真實良品&預測良品筆數  / 真實良品筆數 \n",
        "不良品準確率 = 真實不良品&預測不良品筆數  / 真實不良品筆數\n",
        "\"\"\"\n",
        "test_measure_ok=0\n",
        "pred_measure_ok=0\n",
        "test_measure_nok=0\n",
        "pred_measure_nok=0\n",
        "test_measure_ok_arr=[]\n",
        "pred_measure_ok_arr=[]\n",
        "X_test_correct=[]\n",
        "X_test_wrong=[]\n",
        "\n",
        "for test_num in range(len(X_test)):\n",
        "  if measure_true[test_num]==1:\n",
        "    test_measure_ok +=1\n",
        "    test_measure_ok_arr.append(1)\n",
        "    if measure_pred[test_num]==1:\n",
        "      pred_measure_ok +=1\n",
        "      pred_measure_ok_arr.append(1)\n",
        "      X_test_correct.append(X_test[test_num].numpy())\n",
        "    else:\n",
        "      pred_measure_ok_arr.append(0)\n",
        "      X_test_wrong.append(X_test[test_num].numpy())\n",
        "     \n",
        "  else:\n",
        "    test_measure_nok +=1\n",
        "    test_measure_ok_arr.append(0)\n",
        "    if measure_pred[test_num]==1:\n",
        "      pred_measure_ok_arr.append(1)\n",
        "      X_test_wrong.append(X_test[test_num].numpy())\n",
        "    else:\n",
        "      pred_measure_nok +=1\n",
        "      pred_measure_ok_arr.append(0)\n",
        "      X_test_correct.append(X_test[test_num].numpy())\n",
        "\n",
        "\n",
        "print(\"實際值良品：\",test_measure_ok,\"個\")\n",
        "print(\"實際值良品 & 預測值良品：\",pred_measure_ok,\"個\")\n",
        "print(\"良品預測準確率：\",pred_measure_ok/test_measure_ok)\n",
        "print()\n",
        "print(\"實際值不良品：\",test_measure_nok,\"個\")\n",
        "print(\"實際值不良品 & 預測值不良品：\",pred_measure_nok,\"個\")\n",
        "if test_measure_nok != 0:\n",
        "  print(\"不良品預測準確率：\",pred_measure_nok/test_measure_nok)\n",
        "else:\n",
        "  print(\"不良品預測準確率：\",\"無不良品\")\n",
        "print()\n",
        "print(\"準確率：\",(pred_measure_ok+pred_measure_nok)/len(X_test))"
      ],
      "metadata": {
        "id": "B_9lXMINuAf3",
        "colab": {
          "base_uri": "https://localhost:8080/"
        },
        "outputId": "cd167aa2-1689-4f65-b1c9-d41420e06575"
      },
      "execution_count": null,
      "outputs": [
        {
          "output_type": "stream",
          "name": "stdout",
          "text": [
            "實際值良品： 143 個\n",
            "實際值良品 & 預測值良品： 140 個\n",
            "良品預測準確率： 0.9790209790209791\n",
            "\n",
            "實際值不良品： 1 個\n",
            "實際值不良品 & 預測值不良品： 0 個\n",
            "不良品預測準確率： 0.0\n",
            "\n",
            "準確率： 0.9722222222222222\n"
          ]
        }
      ]
    },
    {
      "cell_type": "code",
      "source": [
        "\"\"\"\n",
        "將預測正確與錯誤之data另外儲存\n",
        "\"\"\"\n",
        "np.save(folder_path + 'x_test_correct.npy', X_test_correct)\n",
        "np.save(folder_path + 'x_test_wrong.npy', X_test_wrong)\n",
        "print(\"Correct num:\", len(X_test_correct))\n",
        "print(\"Wrong num:\", len(X_test_wrong))"
      ],
      "metadata": {
        "colab": {
          "base_uri": "https://localhost:8080/"
        },
        "id": "PBOVrVQ_uNL9",
        "outputId": "d58feab6-7a3e-4f10-efc9-35b747589371"
      },
      "execution_count": null,
      "outputs": [
        {
          "output_type": "stream",
          "name": "stdout",
          "text": [
            "Correct num: 140\n",
            "Wrong num: 4\n"
          ]
        }
      ]
    },
    {
      "cell_type": "code",
      "source": [
        "\"\"\"\n",
        "Show testing confusion matrix\n",
        "0為不良品, 1為良品\n",
        "\"\"\"\n",
        "from sklearn.metrics import confusion_matrix\n",
        "conf_matrix = confusion_matrix(y_true=test_measure_ok_arr, y_pred=pred_measure_ok_arr)\n",
        "fig, ax = plt.subplots(figsize=(5, 5))\n",
        "ax.matshow(conf_matrix, cmap=plt.cm.Oranges, alpha=0.3)\n",
        "for i in range(conf_matrix.shape[0]):\n",
        "    for j in range(conf_matrix.shape[1]):\n",
        "        ax.text(x=j, y=i,s=conf_matrix[i, j], va='center', ha='center', size='xx-large')\n",
        " \n",
        "plt.xlabel('Predictions', fontsize=16)\n",
        "plt.ylabel('Actuals', fontsize=16)\n",
        "plt.title('Confusion Matrix', fontsize=16)\n",
        "plt.show()"
      ],
      "metadata": {
        "colab": {
          "base_uri": "https://localhost:8080/",
          "height": 353
        },
        "id": "99PxWdgVuNwV",
        "outputId": "a9de4f6e-7bb5-4b77-ce6b-3d01ec2d98d2"
      },
      "execution_count": null,
      "outputs": [
        {
          "output_type": "display_data",
          "data": {
            "text/plain": [
              "<Figure size 360x360 with 1 Axes>"
            ],
            "image/png": "[encoded data removed]"
          },
          "metadata": {
            "needs_background": "light"
          }
        }
      ]
    }
  ],
  "metadata": {
    "accelerator": "GPU",
    "colab": {
      "collapsed_sections": [],
      "name": "Dinkle_data_testing.ipynb",
      "provenance": []
    },
    "kernelspec": {
      "display_name": "Python 3",
      "name": "python3"
    },
    "language_info": {
      "name": "python"
    }
  },
  "nbformat": 4,
  "nbformat_minor": 0
}