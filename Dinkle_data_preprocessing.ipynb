{
  "cells": [
    {
      "cell_type": "markdown",
      "source": [
        "#Data Preprocessing\n",
        "Input: \n",
        "> 沖壓機清洗後資料\n",
        "\n",
        "> 瞬測儀清洗後資料\n",
        "\n",
        "Output: \n",
        "> X_train: training data (data_num*rate, sequence_num, feature_num)\n",
        "\n",
        "> Y_train: training label (data_num*rate, output_num)\n",
        "\n",
        "> X_test: testing data (data_num*(1-rate), sequence_num, feature_num)\n",
        "\n",
        "> Y_test: testing label (data_num*(1-rate), output_num)"
      ],
      "metadata": {
        "id": "abjg60JZVblo"
      }
    },
    {
      "cell_type": "code",
      "execution_count": null,
      "metadata": {
        "id": "2pXe_VJlQ6Zr"
      },
      "outputs": [],
      "source": [
        "import pandas as pd\n",
        "import numpy as np\n",
        "from random import sample\n",
        "import random\n",
        "from datetime import datetime\n",
        "\n",
        "# below is for loading data from google drive\n",
        "from google.colab import drive\n",
        "drive.mount('/content/drive', force_remount=True)\n",
        "\n",
        "sequence_num = 100   #資料期數\n",
        "time_num = 3600      #沖壓機與瞬測儀的時間差距(second)\n",
        "print(\"Sequence number: \", sequence_num)\n",
        "print(\"Time number: \", time_num)\n",
        "\n",
        "# put your folder path, ex: '/content/drive/MyDrive/.../'\n",
        "folder_path = 'folderpath'\n",
        "\n",
        "# put your data path, ex: '/content/drive/MyDrive/.../'\n",
        "input_data_machine = '沖壓機 file path' \n",
        "input_data_rate = '瞬測儀 file path'\n",
        "\n",
        "data_machine = pd.read_excel(input_data_machine, usecols=[\"編號\",\"frequency\",\"Speed\",\"Status\"])\n",
        "data_rate = pd.read_excel(input_data_rate)\n",
        "data_machine = data_machine.dropna()\n",
        "data_rate = data_rate.dropna()\n",
        "\n",
        "print(data_machine.head())\n",
        "print(data_rate.head())\n",
        "print(data_machine.shape)\n",
        "print(data_rate.shape)"
      ]
    },
    {
      "cell_type": "code",
      "source": [
        "# 只抓特定料號\n",
        "data_rate = data_rate[data_rate[\"料號\"] == \"0162B00100\"]"
      ],
      "metadata": {
        "id": "3CoZap9i24OZ"
      },
      "execution_count": null,
      "outputs": []
    },
    {
      "cell_type": "code",
      "execution_count": null,
      "metadata": {
        "colab": {
          "base_uri": "https://localhost:8080/"
        },
        "id": "uLwWsWvDUQZz",
        "outputId": "3293ad7f-75ce-4c8b-ed7d-354d4ff66acb"
      },
      "outputs": [
        {
          "output_type": "stream",
          "name": "stdout",
          "text": [
            "沖壓機不重複編號個數:  351091\n",
            "瞬測儀不重複編號個數:  566\n",
            "Total package number:  489\n"
          ]
        }
      ],
      "source": [
        "\"\"\"\n",
        "將瞬測儀和機台數據資料分包&配對\n",
        "\"\"\"\n",
        "data_machine.set_index(\"編號\", inplace=True)\n",
        "all_data_machineId = np.array(data_machine.index.drop_duplicates(keep='first').values)\n",
        "data_machine.reset_index(inplace=True)\n",
        "\n",
        "data_rate.set_index(\"產生檢驗單號的時間\", inplace=True)\n",
        "all_data_rateId = np.array(data_rate.index.drop_duplicates(keep='first').values)\n",
        "data_rate.reset_index(inplace=True)\n",
        "\n",
        "print(\"沖壓機不重複編號個數: \",all_data_machineId.size)\n",
        "print(\"瞬測儀不重複編號個數: \",all_data_rateId.size)\n",
        "\n",
        "pkg_num = 0\n",
        "\n",
        "for data_rateId in all_data_rateId:\n",
        "  time_compare = time_num\n",
        "  data_machineId_compare = 0\n",
        "  for data_machineId in all_data_machineId:\n",
        "    \"\"\"\n",
        "    完全相同\n",
        "    \"\"\"\n",
        "    # if data_machineId == data_rateId:\n",
        "    #   pkg_num += 1 \n",
        "    #   globals()['x_'+str(pkg_num)] = data_machine[data_machine[\"編號\"] == data_machineId]\n",
        "    #   globals()['y_'+str(pkg_num)] = data_rate[data_rate[\"產生檢驗單號的時間\"] == data_rateId]\n",
        "    # else:\n",
        "    \"\"\"\n",
        "    完全相同&時間誤差time_num內視為同包\n",
        "    \"\"\"\n",
        "    machineId = data_machineId[14:29]   #抓機台編號_工單號\n",
        "    rateId = data_rateId[14:29]         #抓機台編號_工單號\n",
        "    \n",
        "    if rateId == machineId:\n",
        "      time_machine = datetime.strptime(data_machineId[0:13], \"%Y%m%d%H:%M\")\n",
        "      time_rate = datetime.strptime(data_rateId[0:13], \"%Y%m%d%H:%M\")\n",
        "      time_diff = (time_rate - time_machine).total_seconds()  #計算時間誤差\n",
        "\n",
        "      if time_diff <= time_num and time_diff >= 0 and time_diff < time_compare:\n",
        "        data_machineId_compare = data_machineId\n",
        "        time_compare = time_diff\n",
        "          \n",
        "  if data_machineId_compare != 0:\n",
        "    pkg_num += 1 \n",
        "    globals()['x_'+str(pkg_num)] = data_machine[data_machine[\"編號\"] == data_machineId_compare]    #沖壓機資料\n",
        "    globals()['y_'+str(pkg_num)] = data_rate[data_rate[\"產生檢驗單號的時間\"] == data_rateId]         #瞬測儀資料\n",
        "\n",
        "max_pkg_num = pkg_num\n",
        "print(\"Total package number: \", max_pkg_num)"
      ]
    },
    {
      "cell_type": "code",
      "execution_count": null,
      "metadata": {
        "colab": {
          "base_uri": "https://localhost:8080/"
        },
        "id": "pSttsdPj7J27",
        "outputId": "f6995cc2-ae38-4bea-ae89-ed402fc42d31"
      },
      "outputs": [
        {
          "output_type": "stream",
          "name": "stdout",
          "text": [
            "Less than sequence_num data package:  11\n",
            "Usable package:  478\n",
            "First package number:  1\n",
            "(100, 3)\n",
            "(1, 26)\n"
          ]
        }
      ],
      "source": [
        "\"\"\"\n",
        "機台資料往前取同機台工單sequence_num筆，計算筆數小於sequence_num筆包數\n",
        "\"\"\"\n",
        "usable_pkg = 0\n",
        "lessthan = 0\n",
        "\n",
        "for pkg_num in range(1, max_pkg_num+1):\n",
        "  rateId = str(globals()['y_'+str(pkg_num)][[\"產生檢驗單號的時間\"]].values)[17:32] #抓機台編號_工單號\n",
        "  machineIndex = int(globals()['x_'+str(pkg_num)].index[0])                     #抓對應的沖壓機index\n",
        "  machineId = str(globals()['x_'+str(pkg_num)][[\"編號\"]].values)[17:32]          #抓機台編號_工單號\n",
        "\n",
        "  for num in range(machineIndex,0,-1):\n",
        "    if num == machineIndex:\n",
        "      globals()['x_sequence_'+str(pkg_num)] = data_machine.loc[[num]]\n",
        "    else: #往前取同機台工單號sequence_num筆\n",
        "      if (str(data_machine[\"編號\"][num])[14:31] == machineId) and (len(globals()['x_sequence_'+str(pkg_num)]) < sequence_num):\n",
        "        globals()['x_sequence_'+str(pkg_num)] = pd.concat([globals()['x_sequence_'+str(pkg_num)], data_machine.loc[[num]]])\n",
        "\n",
        "for pkg_num in range(1, max_pkg_num+1):\n",
        "  if len(globals()['x_sequence_'+str(pkg_num)]) < sequence_num:\n",
        "    lessthan += 1\n",
        "  else:\n",
        "    if usable_pkg == 0:\n",
        "      first_pkg = pkg_num \n",
        "    usable_pkg += 1\n",
        "  globals()['x_sequence_'+str(pkg_num)] = globals()['x_sequence_'+str(pkg_num)].drop([\"編號\"], axis=1)\n",
        "  globals()['y_sequence_'+str(pkg_num)] = globals()['y_'+str(pkg_num)].drop([\"產生檢驗單號的時間\",\"料號\"], axis=1)\n",
        "\n",
        "print(\"Less than sequence_num data package: \",lessthan)\n",
        "print(\"Usable package: \",usable_pkg)\n",
        "print(\"First package number: \",first_pkg)\n",
        "print(globals()['x_sequence_'+str(first_pkg)].shape)  #(sequence_num, feature_num)\n",
        "print(globals()['y_sequence_'+str(first_pkg)].shape)  #(1, output_num)"
      ]
    },
    {
      "cell_type": "code",
      "execution_count": null,
      "metadata": {
        "colab": {
          "base_uri": "https://localhost:8080/"
        },
        "id": "2ehZhyhGKyz-",
        "outputId": "50b69747-41d2-4b61-aaa5-8f8937162120"
      },
      "outputs": [
        {
          "output_type": "stream",
          "name": "stdout",
          "text": [
            "(47800, 3)\n",
            "(478, 26)\n"
          ]
        }
      ],
      "source": [
        "\"\"\"\n",
        "依序存進data & label, 將pd格式轉為np格式\n",
        "\"\"\"\n",
        "for pkg_num in range(1, max_pkg_num+1):\n",
        "  if len(globals()['x_sequence_'+str(pkg_num)]) < sequence_num:\n",
        "    pass\n",
        "  else:\n",
        "    if pkg_num == first_pkg:\n",
        "      data = pd.DataFrame(globals()['x_sequence_'+str(pkg_num)])   \n",
        "      label = pd.DataFrame(globals()['y_sequence_'+str(pkg_num)])    \n",
        "    else:\n",
        "      data = pd.concat([data, pd.DataFrame(globals()['x_sequence_'+str(pkg_num)])])\n",
        "      label = pd.concat([label, pd.DataFrame(globals()['y_sequence_'+str(pkg_num)])])\n",
        "\n",
        "data = data.values\n",
        "label = label.values\n",
        "\n",
        "print(data.shape)     #(data_num*sequence_num, feature_num)\n",
        "print(label.shape)    #(data_num, output_num)"
      ]
    },
    {
      "cell_type": "code",
      "execution_count": null,
      "metadata": {
        "colab": {
          "base_uri": "https://localhost:8080/"
        },
        "id": "yQzzdUQd-WRp",
        "outputId": "82528739-d190-43b2-c2cb-7069b29e1d1b"
      },
      "outputs": [
        {
          "output_type": "stream",
          "name": "stdout",
          "text": [
            "(478, 100, 3)\n",
            "(478, 26)\n"
          ]
        }
      ],
      "source": [
        "\"\"\"\n",
        "將data從(data_num*sequence_num, feature_num)轉為(data_num, sequence_num, feature_num)\n",
        "\"\"\"\n",
        "slide_size = 0\n",
        "data_temp = []\n",
        "\n",
        "for pkg_num in range(1, max_pkg_num+1):\n",
        "  if len(globals()['x_sequence_'+str(pkg_num)]) < sequence_num:\n",
        "    pass\n",
        "  else: \n",
        "    data_temp.append(data[slide_size:(slide_size+sequence_num), 0:3])\n",
        "    slide_size += sequence_num\n",
        "\n",
        "data = np.array(data_temp)\n",
        "\n",
        "print(data.shape)     #(data_num, sequence_num, feature_num)\n",
        "print(label.shape)    #(data_num, output_num)"
      ]
    },
    {
      "cell_type": "code",
      "execution_count": null,
      "metadata": {
        "colab": {
          "base_uri": "https://localhost:8080/"
        },
        "id": "27vvbYdJlMN1",
        "outputId": "1aa8d4bc-bfe7-4a7d-8771-b6e26b074bfe"
      },
      "outputs": [
        {
          "output_type": "stream",
          "name": "stdout",
          "text": [
            "(334, 100, 3)\n",
            "(334, 26)\n",
            "(144, 100, 3)\n",
            "(144, 26)\n"
          ]
        }
      ],
      "source": [
        "\"\"\"\n",
        "將所有資料shuffle，並分為train & test data\n",
        "\"\"\"\n",
        "permutation = np.random.permutation(label.shape[0])\n",
        "shuffled_data = data[permutation,:,:]\n",
        "shuffled_label = label[permutation]\n",
        "\n",
        "rate=0.7 #train & test data區分比例\n",
        "X_train = shuffled_data[:int(shuffled_data.shape[0]*rate)]\n",
        "Y_train = shuffled_label[:int(shuffled_label.shape[0]*rate)]\n",
        "X_test = shuffled_data[int(shuffled_data.shape[0]*rate):]\n",
        "Y_test = shuffled_label[int(shuffled_label.shape[0]*rate):]\n",
        "\n",
        "print(X_train.shape)  #(data_num*rate, sequence_num, feature_num)\n",
        "print(Y_train.shape)  #(data_num*rate, output_num)\n",
        "print(X_test.shape)   #(data_num*(1-rate), sequence_num, feature_num)\n",
        "print(Y_test.shape)   #(data_num*(1-rate), output_num)"
      ]
    },
    {
      "cell_type": "code",
      "execution_count": null,
      "metadata": {
        "colab": {
          "base_uri": "https://localhost:8080/"
        },
        "id": "5A68e45Ne5kf",
        "outputId": "d50a5292-497f-4153-ec72-0b2ec105c6ac"
      },
      "outputs": [
        {
          "output_type": "stream",
          "name": "stdout",
          "text": [
            "Done\n"
          ]
        }
      ],
      "source": [
        "\"\"\"\n",
        "將train & test data儲存為npy檔\n",
        "\"\"\"\n",
        "np.save(folder_path + 'x_train.npy', X_train)\n",
        "np.save(folder_path + 'y_train.npy', Y_train)\n",
        "np.save(folder_path + 'x_test.npy', X_test)\n",
        "np.save(folder_path + 'y_test.npy', Y_test)\n",
        "print(\"Done\")"
      ]
    }
  ],
  "metadata": {
    "accelerator": "GPU",
    "colab": {
      "collapsed_sections": [],
      "name": "Dinkle_data_preprocessing.ipynb",
      "provenance": []
    },
    "kernelspec": {
      "display_name": "Python 3",
      "name": "python3"
    },
    "language_info": {
      "name": "python"
    }
  },
  "nbformat": 4,
  "nbformat_minor": 0
}