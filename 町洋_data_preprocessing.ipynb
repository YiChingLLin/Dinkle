{
  "cells": [
    {
      "cell_type": "markdown",
      "source": [
        "Input: \n",
        "> 沖壓機清洗後資料\n",
        "\n",
        "> 瞬測儀清洗後資料\n",
        "\n",
        "Output: \n",
        "> X_train: training data (data_num*rate, sequence_num, feature_num)\n",
        "\n",
        "> Y_train: training label (data_num*rate, output_num)\n",
        "\n",
        "> X_test: testing data (data_num*(1-rate), sequence_num, feature_num)\n",
        "\n",
        "> Y_test: testing label (data_num*(1-rate), output_num)"
      ],
      "metadata": {
        "id": "abjg60JZVblo"
      }
    },
    {
      "cell_type": "code",
      "execution_count": 26,
      "metadata": {
        "colab": {
          "base_uri": "https://localhost:8080/"
        },
        "id": "2pXe_VJlQ6Zr",
        "outputId": "4d86ff7a-7fdb-4807-f008-2fc474401ade"
      },
      "outputs": [
        {
          "output_type": "stream",
          "name": "stdout",
          "text": [
            "Mounted at /content/drive\n",
            "Sequence number:  100\n",
            "Time number:  3600\n",
            "                              編號  Speed  Status  frequency\n",
            "0  2020081008:11_D-008_101180441  361.0     2.0   3.000000\n",
            "1  2020081008:12_D-008_101180441  361.0     2.0   3.500000\n",
            "2  2020081008:13_D-008_101180441  361.0     2.0   3.516667\n",
            "3  2020081008:14_D-008_101180441  250.0     4.0   1.800000\n",
            "4  2020081008:19_D-008_101180441  250.0     2.0   0.050000\n",
            "                       產生檢驗單號的時間            料號  最大 - detail_5  最大 - detail_6  \\\n",
            "0  2020082114:46_D-006_101181727  0162B00200-1         2.1900           2.20   \n",
            "1  2020082121:39_D-006_101181727  0162B00200-1         2.1900           2.21   \n",
            "2  2020082205:10_D-006_101181727  0162B00200-1         2.1900           2.20   \n",
            "3  2020082208:44_D-006_101181727  0162B00200-1         2.2000           2.20   \n",
            "4  2020082421:10_D-008_101181721    0162B00200         3.2853           2.25   \n",
            "\n",
            "   最大 - detail_7  最大 - detail_8  最大 - detail_9  最大 - detail_10  \\\n",
            "0         2.2000         2.2000           3.27          3.2700   \n",
            "1         2.2000         2.2100           3.27          3.2700   \n",
            "2         2.2100         2.2100           3.27          3.2800   \n",
            "3         2.2600         2.2000           3.26          3.2700   \n",
            "4         6.2655         2.7057           3.37          2.4971   \n",
            "\n",
            "   最大 - detail_11  最大 - detail_12  ...  最小 - detail_8  最小 - detail_9  \\\n",
            "0            2.25          2.2400  ...          2.200         3.2600   \n",
            "1            2.24          2.2400  ...          2.200         3.2700   \n",
            "2            2.23          2.2500  ...          2.210         3.2600   \n",
            "3            2.24          2.2500  ...          2.190         3.2600   \n",
            "4            0.40          2.2011  ...          2.694         3.3517   \n",
            "\n",
            "   最小 - detail_10  最小 - detail_11  最小 - detail_12  最小 - detail_13  \\\n",
            "0          3.2600            2.24            2.24          10.320   \n",
            "1          3.2600            2.23            2.23          10.360   \n",
            "2          3.2800            2.23            2.25          10.360   \n",
            "3          3.2700            2.24            2.25          10.350   \n",
            "4          2.4146            0.40            2.20           0.553   \n",
            "\n",
            "   最小 - detail_14  最小 - detail_15  最小 - detail_16  最小 - detail_17  \n",
            "0           14.17            1.14          1.2800         134.220  \n",
            "1           14.19            1.13          1.3049         133.660  \n",
            "2           14.19            1.14          1.2983         133.600  \n",
            "3           14.23            1.13          1.2940         134.260  \n",
            "4            0.54            0.55          0.5710           0.541  \n",
            "\n",
            "[5 rows x 28 columns]\n",
            "(351091, 4)\n",
            "(965, 28)\n"
          ]
        }
      ],
      "source": [
        "import pandas as pd\n",
        "import numpy as np\n",
        "from random import sample\n",
        "import random\n",
        "from datetime import datetime\n",
        "\n",
        "# below is for loading data from google drive\n",
        "from google.colab import drive\n",
        "drive.mount('/content/drive', force_remount=True)\n",
        "\n",
        "sequence_num = 100   #資料期數\n",
        "time_num = 3600      #沖壓機與瞬測儀的時間差距(second)\n",
        "print(\"Sequence number: \", sequence_num)\n",
        "print(\"Time number: \", time_num)\n",
        "\n",
        "# put your folder path, ex: '/content/drive/MyDrive/.../'\n",
        "folder_path = 'folderpath'\n",
        "\n",
        "# put your data path, ex: '/content/drive/MyDrive/.../'\n",
        "input_data_machine = '沖壓機 file path' \n",
        "input_data_rate = '瞬測儀 file path'\n",
        "\n",
        "data_machine = pd.read_excel(input_data_machine, usecols=[\"編號\",\"frequency\",\"Speed\",\"Status\"])\n",
        "data_rate = pd.read_excel(input_data_rate)\n",
        "data_machine = data_machine.dropna()\n",
        "data_rate = data_rate.dropna()\n",
        "\n",
        "print(data_machine.head())\n",
        "print(data_rate.head())\n",
        "print(data_machine.shape)\n",
        "print(data_rate.shape)"
      ]
    },
    {
      "cell_type": "code",
      "source": [
        "# 只抓特定料號\n",
        "data_rate = data_rate[data_rate[\"料號\"] == \"0162B00100\"]"
      ],
      "metadata": {
        "id": "3CoZap9i24OZ"
      },
      "execution_count": 18,
      "outputs": []
    },
    {
      "cell_type": "code",
      "execution_count": 19,
      "metadata": {
        "colab": {
          "base_uri": "https://localhost:8080/"
        },
        "id": "uLwWsWvDUQZz",
        "outputId": "3293ad7f-75ce-4c8b-ed7d-354d4ff66acb"
      },
      "outputs": [
        {
          "output_type": "stream",
          "name": "stdout",
          "text": [
            "沖壓機不重複編號個數:  351091\n",
            "瞬測儀不重複編號個數:  566\n",
            "Total package number:  489\n"
          ]
        }
      ],
      "source": [
        "\"\"\"\n",
        "將瞬測儀和機台數據資料分包&配對\n",
        "\"\"\"\n",
        "data_machine.set_index(\"編號\", inplace=True)\n",
        "all_data_machineId = np.array(data_machine.index.drop_duplicates(keep='first').values)\n",
        "data_machine.reset_index(inplace=True)\n",
        "\n",
        "data_rate.set_index(\"產生檢驗單號的時間\", inplace=True)\n",
        "all_data_rateId = np.array(data_rate.index.drop_duplicates(keep='first').values)\n",
        "data_rate.reset_index(inplace=True)\n",
        "\n",
        "print(\"沖壓機不重複編號個數: \",all_data_machineId.size)\n",
        "print(\"瞬測儀不重複編號個數: \",all_data_rateId.size)\n",
        "\n",
        "pkg_num = 0\n",
        "\n",
        "for data_rateId in all_data_rateId:\n",
        "  time_compare = time_num\n",
        "  data_machineId_compare = 0\n",
        "  for data_machineId in all_data_machineId:\n",
        "    \"\"\"\n",
        "    完全相同\n",
        "    \"\"\"\n",
        "    # if data_machineId == data_rateId:\n",
        "    #   pkg_num += 1 \n",
        "    #   globals()['x_'+str(pkg_num)] = data_machine[data_machine[\"編號\"] == data_machineId]\n",
        "    #   globals()['y_'+str(pkg_num)] = data_rate[data_rate[\"產生檢驗單號的時間\"] == data_rateId]\n",
        "    # else:\n",
        "    \"\"\"\n",
        "    完全相同&時間誤差time_num內視為同包\n",
        "    \"\"\"\n",
        "    machineId = data_machineId[14:29]   #抓機台編號_工單號\n",
        "    rateId = data_rateId[14:29]         #抓機台編號_工單號\n",
        "    \n",
        "    if rateId == machineId:\n",
        "      time_machine = datetime.strptime(data_machineId[0:13], \"%Y%m%d%H:%M\")\n",
        "      time_rate = datetime.strptime(data_rateId[0:13], \"%Y%m%d%H:%M\")\n",
        "      time_diff = (time_rate - time_machine).total_seconds()  #計算時間誤差\n",
        "\n",
        "      if time_diff <= time_num and time_diff >= 0 and time_diff < time_compare:\n",
        "        data_machineId_compare = data_machineId\n",
        "        time_compare = time_diff\n",
        "          \n",
        "  if data_machineId_compare != 0:\n",
        "    pkg_num += 1 \n",
        "    globals()['x_'+str(pkg_num)] = data_machine[data_machine[\"編號\"] == data_machineId_compare]    #沖壓機資料\n",
        "    globals()['y_'+str(pkg_num)] = data_rate[data_rate[\"產生檢驗單號的時間\"] == data_rateId]         #瞬測儀資料\n",
        "\n",
        "max_pkg_num = pkg_num\n",
        "print(\"Total package number: \", max_pkg_num)"
      ]
    },
    {
      "cell_type": "code",
      "execution_count": 20,
      "metadata": {
        "colab": {
          "base_uri": "https://localhost:8080/"
        },
        "id": "pSttsdPj7J27",
        "outputId": "f6995cc2-ae38-4bea-ae89-ed402fc42d31"
      },
      "outputs": [
        {
          "output_type": "stream",
          "name": "stdout",
          "text": [
            "Less than sequence_num data package:  11\n",
            "Usable package:  478\n",
            "First package number:  1\n",
            "(100, 3)\n",
            "(1, 26)\n"
          ]
        }
      ],
      "source": [
        "\"\"\"\n",
        "機台資料往前取同機台工單sequence_num筆，計算筆數小於sequence_num筆包數\n",
        "\"\"\"\n",
        "usable_pkg = 0\n",
        "lessthan = 0\n",
        "\n",
        "for pkg_num in range(1, max_pkg_num+1):\n",
        "  rateId = str(globals()['y_'+str(pkg_num)][[\"產生檢驗單號的時間\"]].values)[17:32] #抓機台編號_工單號\n",
        "  machineIndex = int(globals()['x_'+str(pkg_num)].index[0])                     #抓對應的沖壓機index\n",
        "  machineId = str(globals()['x_'+str(pkg_num)][[\"編號\"]].values)[17:32]          #抓機台編號_工單號\n",
        "\n",
        "  for num in range(machineIndex,0,-1):\n",
        "    if num == machineIndex:\n",
        "      globals()['x_sequence_'+str(pkg_num)] = data_machine.loc[[num]]\n",
        "    else: #往前取同機台工單號sequence_num筆\n",
        "      if (str(data_machine[\"編號\"][num])[14:31] == machineId) and (len(globals()['x_sequence_'+str(pkg_num)]) < sequence_num):\n",
        "        globals()['x_sequence_'+str(pkg_num)] = pd.concat([globals()['x_sequence_'+str(pkg_num)], data_machine.loc[[num]]])\n",
        "\n",
        "for pkg_num in range(1, max_pkg_num+1):\n",
        "  if len(globals()['x_sequence_'+str(pkg_num)]) < sequence_num:\n",
        "    lessthan += 1\n",
        "  else:\n",
        "    if usable_pkg == 0:\n",
        "      first_pkg = pkg_num \n",
        "    usable_pkg += 1\n",
        "  globals()['x_sequence_'+str(pkg_num)] = globals()['x_sequence_'+str(pkg_num)].drop([\"編號\"], axis=1)\n",
        "  globals()['y_sequence_'+str(pkg_num)] = globals()['y_'+str(pkg_num)].drop([\"產生檢驗單號的時間\",\"料號\"], axis=1)\n",
        "\n",
        "print(\"Less than sequence_num data package: \",lessthan)\n",
        "print(\"Usable package: \",usable_pkg)\n",
        "print(\"First package number: \",first_pkg)\n",
        "print(globals()['x_sequence_'+str(first_pkg)].shape)  #(sequence_num, feature_num)\n",
        "print(globals()['y_sequence_'+str(first_pkg)].shape)  #(1, output_num)"
      ]
    },
    {
      "cell_type": "code",
      "execution_count": 21,
      "metadata": {
        "colab": {
          "base_uri": "https://localhost:8080/"
        },
        "id": "2ehZhyhGKyz-",
        "outputId": "50b69747-41d2-4b61-aaa5-8f8937162120"
      },
      "outputs": [
        {
          "output_type": "stream",
          "name": "stdout",
          "text": [
            "(47800, 3)\n",
            "(478, 26)\n"
          ]
        }
      ],
      "source": [
        "\"\"\"\n",
        "依序存進data & label, 將pd格式轉為np格式\n",
        "\"\"\"\n",
        "for pkg_num in range(1, max_pkg_num+1):\n",
        "  if len(globals()['x_sequence_'+str(pkg_num)]) < sequence_num:\n",
        "    pass\n",
        "  else:\n",
        "    if pkg_num == first_pkg:\n",
        "      data = pd.DataFrame(globals()['x_sequence_'+str(pkg_num)])   \n",
        "      label = pd.DataFrame(globals()['y_sequence_'+str(pkg_num)])    \n",
        "    else:\n",
        "      data = pd.concat([data, pd.DataFrame(globals()['x_sequence_'+str(pkg_num)])])\n",
        "      label = pd.concat([label, pd.DataFrame(globals()['y_sequence_'+str(pkg_num)])])\n",
        "\n",
        "data = data.values\n",
        "label = label.values\n",
        "\n",
        "print(data.shape)     #(data_num*sequence_num, feature_num)\n",
        "print(label.shape)    #(data_num, output_num)"
      ]
    },
    {
      "cell_type": "code",
      "execution_count": 22,
      "metadata": {
        "colab": {
          "base_uri": "https://localhost:8080/"
        },
        "id": "yQzzdUQd-WRp",
        "outputId": "82528739-d190-43b2-c2cb-7069b29e1d1b"
      },
      "outputs": [
        {
          "output_type": "stream",
          "name": "stdout",
          "text": [
            "(478, 100, 3)\n",
            "(478, 26)\n"
          ]
        }
      ],
      "source": [
        "\"\"\"\n",
        "將data從(data_num*sequence_num, feature_num)轉為(data_num, sequence_num, feature_num)\n",
        "\"\"\"\n",
        "slide_size = 0\n",
        "pkg_size = 0\n",
        "data_temp = []\n",
        "\n",
        "for pkg_num in range(1, max_pkg_num+1):\n",
        "  if len(globals()['x_sequence_'+str(pkg_num)]) < sequence_num:\n",
        "    pass\n",
        "  else: \n",
        "    data_temp.append(data[slide_size:(slide_size+sequence_num), 0:3])\n",
        "    slide_size += sequence_num\n",
        "\n",
        "data = np.array(data_temp)\n",
        "\n",
        "print(data.shape)     #(data_num, sequence_num, feature_num)\n",
        "print(label.shape)    #(data_num, output_num)"
      ]
    },
    {
      "cell_type": "code",
      "execution_count": 23,
      "metadata": {
        "colab": {
          "base_uri": "https://localhost:8080/"
        },
        "id": "27vvbYdJlMN1",
        "outputId": "1aa8d4bc-bfe7-4a7d-8771-b6e26b074bfe"
      },
      "outputs": [
        {
          "output_type": "stream",
          "name": "stdout",
          "text": [
            "(334, 100, 3)\n",
            "(334, 26)\n",
            "(144, 100, 3)\n",
            "(144, 26)\n"
          ]
        }
      ],
      "source": [
        "\"\"\"\n",
        "將所有資料shuffle，並分為train & test data\n",
        "\"\"\"\n",
        "permutation = np.random.permutation(label.shape[0])\n",
        "shuffled_data = data[permutation,:,:]\n",
        "shuffled_label = label[permutation]\n",
        "\n",
        "rate=0.7 #train & test data區分比例\n",
        "X_train = shuffled_data[:int(shuffled_data.shape[0]*rate)]\n",
        "Y_train = shuffled_label[:int(shuffled_label.shape[0]*rate)]\n",
        "X_test = shuffled_data[int(shuffled_data.shape[0]*rate):]\n",
        "Y_test = shuffled_label[int(shuffled_label.shape[0]*rate):]\n",
        "\n",
        "print(X_train.shape)  #(data_num*rate, sequence_num, feature_num)\n",
        "print(Y_train.shape)  #(data_num*rate, output_num)\n",
        "print(X_test.shape)   #(data_num*(1-rate), sequence_num, feature_num)\n",
        "print(Y_test.shape)   #(data_num*(1-rate), output_num)"
      ]
    },
    {
      "cell_type": "code",
      "execution_count": 27,
      "metadata": {
        "colab": {
          "base_uri": "https://localhost:8080/"
        },
        "id": "5A68e45Ne5kf",
        "outputId": "d50a5292-497f-4153-ec72-0b2ec105c6ac"
      },
      "outputs": [
        {
          "output_type": "stream",
          "name": "stdout",
          "text": [
            "Done\n"
          ]
        }
      ],
      "source": [
        "\"\"\"\n",
        "將train & test data儲存為npy檔\n",
        "\"\"\"\n",
        "np.save(folder_path + 'x_train.npy', X_train)\n",
        "np.save(folder_path + 'y_train.npy', Y_train)\n",
        "np.save(folder_path + 'x_test.npy', X_test)\n",
        "np.save(folder_path + 'y_test.npy', Y_test)\n",
        "print(\"Done\")"
      ]
    }
  ],
  "metadata": {
    "accelerator": "GPU",
    "colab": {
      "collapsed_sections": [],
      "name": "町洋_data_preprocessing.ipynb",
      "provenance": []
    },
    "kernelspec": {
      "display_name": "Python 3",
      "name": "python3"
    },
    "language_info": {
      "name": "python"
    }
  },
  "nbformat": 4,
  "nbformat_minor": 0
}