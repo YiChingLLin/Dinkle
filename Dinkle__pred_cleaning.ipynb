{
  "cells": [
    {
      "cell_type": "markdown",
      "source": [
        "# Prediction Data Cleaning\n",
        "Input: \n",
        "> 瞬測儀Raw data\n",
        "\n",
        "Output:\n",
        "> true.npy : data after cleaning for prediction"
      ],
      "metadata": {
        "id": "X2Q7017HHXjY"
      }
    },
    {
      "cell_type": "code",
      "execution_count": null,
      "metadata": {
        "id": "2pXe_VJlQ6Zr"
      },
      "outputs": [],
      "source": [
        "import pandas as pd\n",
        "import numpy as np\n",
        "from datetime import datetime\n",
        "\n",
        "# below is for loading data from google drive\n",
        "from google.colab import drive\n",
        "drive.mount('/content/drive', force_remount=True)\n",
        "\n",
        "# put your folder path, ex: '/content/drive/MyDrive/.../'\n",
        "folder_path = 'folderpath'\n",
        "\n",
        "# put your data path, ex: '/content/drive/MyDrive/.../'\n",
        "input_data_rate = '瞬測儀 raw data file path'\n",
        "data_rate = pd.read_csv(input_data_rate, header=None)\n",
        "\n",
        "print(data_rate.head())\n",
        "print(data_rate.shape)"
      ]
    },
    {
      "cell_type": "code",
      "execution_count": null,
      "metadata": {
        "id": "3CoZap9i24OZ"
      },
      "outputs": [],
      "source": [
        "\"\"\"\n",
        "生成每筆資料之 產生檢驗單號時間_機台編號_工單號 作為編號\n",
        "(編號格式為根據過去瞬測儀資料清洗後之編號)\n",
        "\"\"\"\n",
        "id = []\n",
        "for i in range(len(data_rate)): # 逐筆資料\n",
        "  id_no = \"\"\n",
        "  date_init = str(data_rate[36].str[0:10][i]).split(' ')[0] # 取產生檢驗單號時間之日期\n",
        "  time_init = str(data_rate[36][i]).split(' ',1)            # 取產生檢驗單號時間之時間\n",
        "\n",
        "  # 將取得之日期改變格式 2022/1/1 -> 20220101\n",
        "  if date_init != 'nan': \n",
        "    date_ini = datetime.strptime(date_init, \"%Y/%m/%d\")\n",
        "    date_ini = date_ini.strftime(\"%Y%m%d\")\n",
        "\n",
        "  # 將取得之時間改變格式 下午02:46:20 -> 14:46\n",
        "  if time_init[0] != 'nan' :\n",
        "    time_ini = time_init[1][0:5] #小時\n",
        "    dict1 = {'下午 01':13,'下午 02':14,'下午 03':15,'下午 04':16,'下午 05':17,'下午 06':18, \\\n",
        "              '下午 07':19,'下午 08':20,'下午 09': 21,'下午 10': 22,'下午 11': 23,'上午 12': 0, \\\n",
        "              '上午 01':1,'上午 02':2,'上午 03':3,'上午 04':4,'上午 05':5,'上午 06':6,'上午 07':7, \\\n",
        "              '上午 08':8,'上午 09': 9,'上午 10': 10,'上午 11': 11,'下午 12': 12}\n",
        "    time_hour = int(pd.Series([time_ini]).map(dict1)) # 小時 12小時制轉換為24小時\n",
        "    time_min = time_init[1][6:8] #分鐘\n",
        "\n",
        "    time = str(time_hour)+' '+str(time_min)\n",
        "    time = datetime.strptime(time, \"%H %M\")\n",
        "    time = time.strftime(\"%H:%M\")\n",
        "\n",
        "    machine = str(data_rate[10][i]) #機台編號\n",
        "    work = str(data_rate[8][i])     #工單號\n",
        "\n",
        "    id_no = date_ini + time +'_'+machine+'_'+work #產生檢驗單號時間_機台編號_工單號 作為編號\n",
        "\n",
        "  id.append(id_no)\n",
        "\n",
        "data_rate[\"id\"] = id\n",
        "print(id)"
      ]
    },
    {
      "cell_type": "code",
      "source": [
        "\"\"\"\n",
        "產生僅具編號及實際測量值之檔案\n",
        "\"\"\"\n",
        "# 只取特定料號資料\n",
        "data_rate = data_rate[data_rate[5] == \"0162B00100\"]\n",
        "\n",
        "data = pd.DataFrame()\n",
        "data[\"id\"] = data_rate[\"id\"] #編號\n",
        "\n",
        "for col_num in range(14,27):\n",
        "  data[str(col_num-13)] = data_rate[col_num] #各實際測量值\n",
        "\n",
        "np.save(folder_name+'true.npy', data) \n",
        "print(data)"
      ],
      "metadata": {
        "id": "aeOVQi1NP5fC"
      },
      "execution_count": null,
      "outputs": []
    }
  ],
  "metadata": {
    "accelerator": "GPU",
    "colab": {
      "collapsed_sections": [],
      "name": "Dinkle\b_pred_cleaning.ipynb",
      "provenance": []
    },
    "kernelspec": {
      "display_name": "Python 3",
      "name": "python3"
    },
    "language_info": {
      "name": "python"
    }
  },
  "nbformat": 4,
  "nbformat_minor": 0
}