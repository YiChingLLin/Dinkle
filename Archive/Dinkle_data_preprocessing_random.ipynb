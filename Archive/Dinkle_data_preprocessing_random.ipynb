{
  "nbformat": 4,
  "nbformat_minor": 0,
  "metadata": {
    "colab": {
      "name": "Dinkle_data_preprocessing_random.ipynb",
      "provenance": [],
      "collapsed_sections": []
    },
    "kernelspec": {
      "name": "python3",
      "display_name": "Python 3"
    },
    "language_info": {
      "name": "python"
    }
  },
  "cells": [
    {
      "cell_type": "code",
      "execution_count": 1,
      "metadata": {
        "colab": {
          "base_uri": "https://localhost:8080/"
        },
        "id": "1lCp_sK83tha",
        "outputId": "6ddd533e-1f43-4734-d9b0-929f994df4ee"
      },
      "outputs": [
        {
          "output_type": "stream",
          "name": "stdout",
          "text": [
            "Mounted at /content/drive\n",
            "Start\n",
            "Random number:  100\n",
            "Repeat number:  100\n",
            "   Speed  Status  frequency                     package\n",
            "0  361.0     2.0   3.000000  20200809_101180441_D-008_1\n",
            "1  361.0     2.0   3.500000  20200809_101180441_D-008_1\n",
            "2  361.0     2.0   3.516667  20200809_101180441_D-008_1\n",
            "3  250.0     4.0   1.800000  20200809_101180441_D-008_1\n",
            "4  250.0     2.0   0.050000  20200809_101180441_D-008_1\n",
            "                           編碼  總不良率\n",
            "0  20200810_101180441_D-008_0  0.00\n",
            "1  20200810_101180441_D-008_0  0.00\n",
            "2  20200810_101180441_D-008_0  0.00\n",
            "3  20200810_101180441_D-008_0  0.00\n",
            "4  20200810_101180441_D-008_1  0.25\n",
            "(351091, 4)\n",
            "(7476, 2)\n"
          ]
        }
      ],
      "source": [
        "import pandas as pd\n",
        "import numpy as np\n",
        "from google.colab import drive\n",
        "from random import sample\n",
        "import random\n",
        "drive.mount('/content/drive', force_remount=True)\n",
        "\n",
        "random_num = 100  #隨機抽取期數\n",
        "repeat_time = 100 #重複抽取次數\n",
        "print(\"Start\")\n",
        "print(\"Random number: \", random_num)\n",
        "print(\"Repeat number: \", repeat_time)\n",
        "\n",
        "# put your data path, ex: '/content/drive/MyDrive/.../'\n",
        "input_data_machine = '/.../data_1212.xlsx'\n",
        "input_data_rate = '/.../1212瞬測儀資料.xlsx'\n",
        "data_machine = pd.read_excel(input_data_machine, usecols=[\"package\",\"frequency\",\"Speed\",\"Status\"])\n",
        "data_rate = pd.read_excel(input_data_rate,'不良率＿用這個表', usecols=[\"編碼\",\"總不良率\"])\n",
        "data_machine = data_machine.dropna()\n",
        "data_rate = data_rate.dropna()\n",
        "\n",
        "print(data_machine.head())\n",
        "print(data_rate.head())\n",
        "print(data_machine.shape)\n",
        "print(data_rate.shape)"
      ]
    },
    {
      "cell_type": "code",
      "source": [
        "\"\"\"\n",
        "將瞬測儀和機台數據資料分包&配對\n",
        "\"\"\"\n",
        "data_machine.set_index(\"package\", inplace=True)\n",
        "all_data_machineId = np.array(data_machine.index.drop_duplicates(keep='first').values)\n",
        "data_machine.reset_index(inplace=True)\n",
        "\n",
        "data_rate.set_index(\"編碼\", inplace=True)\n",
        "all_data_rateId = np.array(data_rate.index.drop_duplicates(keep='first').values)\n",
        "data_rate.reset_index(inplace=True)\n",
        "\n",
        "print(all_data_machineId.size)\n",
        "print(all_data_rateId.size)\n",
        "\n",
        "pkg_num = 0\n",
        "\n",
        "#編號一致才成為一包\n",
        "for data_machineId in all_data_machineId:\n",
        "  for data_rateId in all_data_rateId:\n",
        "    if data_machineId == data_rateId:\n",
        "      pkg_num += 1 \n",
        "      globals()['x_'+str(pkg_num)] = data_machine[data_machine[\"package\"] == data_machineId]\n",
        "      globals()['y_'+str(pkg_num)] = data_rate[data_rate[\"編碼\"] == data_rateId]\n",
        "    else :\n",
        "      pass\n",
        "\n",
        "max_pkg_num = pkg_num\n",
        "print(\"Total package number: \", max_pkg_num)\n",
        "\n",
        "\"\"\"\n",
        "計算筆數小於random_num筆包數\n",
        "\"\"\"\n",
        "usable_pkg = 0\n",
        "lessthan = 0\n",
        "\n",
        "for pkg_num in range(1, max_pkg_num+1):\n",
        "  if len(globals()['x_'+str(pkg_num)]) < random_num:\n",
        "    lessthan += 1\n",
        "  else:\n",
        "    if usable_pkg == 0:\n",
        "      first_pkg = pkg_num \n",
        "    usable_pkg += 1\n",
        "  globals()['x_'+str(pkg_num)] = globals()['x_'+str(pkg_num)].drop([\"package\"], axis=1)\n",
        "  globals()['y_'+str(pkg_num)] = globals()['y_'+str(pkg_num)].drop(columns = [\"編碼\"])\n",
        "\n",
        "print(\"Less than random_num data package: \",lessthan)\n",
        "print(\"Usable package: \",usable_pkg)\n",
        "print(\"First package number: \",first_pkg)"
      ],
      "metadata": {
        "colab": {
          "base_uri": "https://localhost:8080/"
        },
        "id": "mvztbfFP4RG6",
        "outputId": "c5f6c3b7-c80e-4871-f51a-e3ad6a1b11ac"
      },
      "execution_count": 2,
      "outputs": [
        {
          "output_type": "stream",
          "name": "stdout",
          "text": [
            "1296\n",
            "1233\n",
            "Total package number:  1122\n",
            "Less than random_num data package:  145\n",
            "Usable package:  977\n",
            "First package number:  2\n"
          ]
        }
      ]
    },
    {
      "cell_type": "code",
      "source": [
        "\"\"\"\n",
        "處理feature & 各包抽random_num*n筆, 處理label\n",
        "\"\"\"\n",
        "for pkg_num in range(1, max_pkg_num+1):\n",
        "  pkg_size = len(globals()['x_'+str(pkg_num)])\n",
        "\n",
        "  if len(globals()['x_'+str(pkg_num)]) < random_num:\n",
        "    pass\n",
        "  else: \n",
        "    \"\"\"\n",
        "    random repeat_time次, 挑隨機random_num筆feature data, shape = (repeat_time*包*random_num ,3)\n",
        "    \"\"\"\n",
        "    for num in range(repeat_time):\n",
        "      if num == 0:\n",
        "        globals()['x_random_'+str(pkg_num)] = globals()['x_'+str(pkg_num)].sample(n=random_num)\n",
        "      else:\n",
        "        globals()['x_random_'+str(pkg_num)] = pd.concat([globals()['x_random_'+str(pkg_num)], globals()['x_'+str(pkg_num)].sample(n=random_num)])\n",
        "\n",
        "    \"\"\"\n",
        "    處理label, shape = (repeat_time*包, 1)\n",
        "    \"\"\"\n",
        "    pkg_rate = globals()['y_'+str(pkg_num)].iloc[0].round(2).values\n",
        "    slide_time = int(len(globals()['x_random_'+str(pkg_num)])/random_num)\n",
        "    globals()['y_random_'+str(pkg_num)] = np.zeros((slide_time,1))\n",
        "\n",
        "    for y_num in range(slide_time):\n",
        "      globals()['y_random_'+str(pkg_num)][y_num] = np.array([pkg_rate])\n",
        "\n",
        "print(globals()['x_random_'+str(first_pkg)].shape)  \n",
        "print(globals()['y_random_'+str(first_pkg)].shape)"
      ],
      "metadata": {
        "colab": {
          "base_uri": "https://localhost:8080/"
        },
        "id": "gJyY3B124TNk",
        "outputId": "85450516-2f49-4450-f1c2-a287475933c7"
      },
      "execution_count": 3,
      "outputs": [
        {
          "output_type": "stream",
          "name": "stdout",
          "text": [
            "(10000, 3)\n",
            "(100, 1)\n"
          ]
        }
      ]
    },
    {
      "cell_type": "code",
      "source": [
        "\"\"\"\n",
        "依序存進data & label\n",
        "\"\"\"\n",
        "for pkg_num in range(1, max_pkg_num+1):\n",
        "  if len(globals()['x_'+str(pkg_num)]) < random_num:\n",
        "    pass\n",
        "  else:\n",
        "    if pkg_num == first_pkg:\n",
        "      data = pd.DataFrame(globals()['x_random_'+str(pkg_num)])    \n",
        "      label = pd.DataFrame(globals()['y_random_'+str(pkg_num)])    \n",
        "    else:\n",
        "      data = pd.concat([data, pd.DataFrame(globals()['x_random_'+str(pkg_num)])])\n",
        "      label = pd.concat([label, pd.DataFrame(globals()['y_random_'+str(pkg_num)])])\n",
        "\n",
        "data = data.values\n",
        "label = label.values\n",
        "\n",
        "print(data.shape) \n",
        "print(label.shape) "
      ],
      "metadata": {
        "colab": {
          "base_uri": "https://localhost:8080/"
        },
        "id": "EfEzWJuG4V3A",
        "outputId": "5da69bb1-ac66-43a9-c77d-fc3fe2e667c4"
      },
      "execution_count": 4,
      "outputs": [
        {
          "output_type": "stream",
          "name": "stdout",
          "text": [
            "(9770000, 3)\n",
            "(97700, 1)\n"
          ]
        }
      ]
    },
    {
      "cell_type": "code",
      "source": [
        "slide_size = 0\n",
        "pkg_size = 0\n",
        "data_temp = []\n",
        "\n",
        "for pkg_num in range(1, max_pkg_num+1):\n",
        "  if len(globals()['x_'+str(pkg_num)]) < random_num:\n",
        "    pass\n",
        "  else: \n",
        "    for num in range(repeat_time): \n",
        "      data_temp.append(data[slide_size:(slide_size+random_num), 0:3])\n",
        "      slide_size += random_num\n",
        "\n",
        "data = np.array(data_temp)\n",
        "\n",
        "print(data.shape)\n",
        "print(label.shape)"
      ],
      "metadata": {
        "colab": {
          "base_uri": "https://localhost:8080/"
        },
        "id": "wnWQgG2d4YEh",
        "outputId": "d90fdd8c-4cd6-46bf-d66a-1479cfae96c9"
      },
      "execution_count": 5,
      "outputs": [
        {
          "output_type": "stream",
          "name": "stdout",
          "text": [
            "(97700, 100, 3)\n",
            "(97700, 1)\n"
          ]
        }
      ]
    },
    {
      "cell_type": "code",
      "source": [
        "permutation=np.random.permutation(label.shape[0])\n",
        "shuffled_data=data[permutation,:,:]\n",
        "shuffled_label=label[permutation]\n",
        "\n",
        "rate=0.7\n",
        "X_train=shuffled_data[:int(shuffled_data.shape[0]*rate)]\n",
        "Y_train=shuffled_label[:int(shuffled_label.shape[0]*rate)]\n",
        "X_test=shuffled_data[int(shuffled_data.shape[0]*rate):]\n",
        "Y_test=shuffled_label[int(shuffled_label.shape[0]*rate):]\n",
        "\n",
        "print(X_train.shape)\n",
        "print(Y_train.shape)\n",
        "print(X_test.shape)\n",
        "print(Y_test.shape)"
      ],
      "metadata": {
        "colab": {
          "base_uri": "https://localhost:8080/"
        },
        "id": "uNtqpwc84bLH",
        "outputId": "a1f673d9-10fe-407f-ba59-34ecd66b0925"
      },
      "execution_count": 6,
      "outputs": [
        {
          "output_type": "stream",
          "name": "stdout",
          "text": [
            "(68390, 100, 3)\n",
            "(68390, 1)\n",
            "(29310, 100, 3)\n",
            "(29310, 1)\n"
          ]
        }
      ]
    }
  ]
}