{
  "nbformat": 4,
  "nbformat_minor": 0,
  "metadata": {
    "colab": {
      "name": "model_example.ipynb",
      "provenance": [],
      "collapsed_sections": []
    },
    "kernelspec": {
      "name": "python3",
      "display_name": "Python 3"
    },
    "language_info": {
      "name": "python"
    },
    "accelerator": "GPU"
  },
  "cells": [
    {
      "cell_type": "markdown",
      "source": [
        "# Model example\n",
        "\n",
        "This example will show you the whole process from model testing, analysis, and SHAP.\n",
        "\n",
        "Because data_preprocessing need raw data, so \"example\" folder has given you the output data and model.\n",
        "\n",
        "> x_train.npy, x_test.npy, y_test.npy -> output of data_preprocessing\n",
        "\n",
        "> model.pt -> model after training (model class and setting included in code)"
      ],
      "metadata": {
        "id": "gXB4OGGmf2zr"
      }
    },
    {
      "cell_type": "markdown",
      "source": [
        "If you didn't download the folder, must execute these two cells."
      ],
      "metadata": {
        "id": "xubptWIAjgeK"
      }
    },
    {
      "cell_type": "code",
      "source": [
        "!git clone https://github.com/YiChingLLin/Dinkle.git"
      ],
      "metadata": {
        "colab": {
          "base_uri": "https://localhost:8080/"
        },
        "id": "lSVzV_oFi2bC",
        "outputId": "f5d8a4d7-4036-4b6e-d2ed-f1492dbead75"
      },
      "execution_count": null,
      "outputs": [
        {
          "output_type": "stream",
          "name": "stdout",
          "text": [
            "Cloning into 'Dinkle'...\n",
            "remote: Enumerating objects: 206, done.\u001b[K\n",
            "remote: Counting objects: 100% (206/206), done.\u001b[K\n",
            "remote: Compressing objects: 100% (141/141), done.\u001b[K\n",
            "remote: Total 206 (delta 118), reused 146 (delta 61), pack-reused 0\u001b[K\n",
            "Receiving objects: 100% (206/206), 7.74 MiB | 5.24 MiB/s, done.\n",
            "Resolving deltas: 100% (118/118), done.\n"
          ]
        }
      ]
    },
    {
      "cell_type": "code",
      "source": [
        "cd ./Dinkle/example/"
      ],
      "metadata": {
        "colab": {
          "base_uri": "https://localhost:8080/"
        },
        "id": "xacjVViRi93e",
        "outputId": "dba8076b-d43e-4168-e238-42b5c119c9dc"
      },
      "execution_count": null,
      "outputs": [
        {
          "output_type": "stream",
          "name": "stdout",
          "text": [
            "/content/Dinkle/example/Dinkle/example\n"
          ]
        }
      ]
    },
    {
      "cell_type": "markdown",
      "source": [
        "Start from here"
      ],
      "metadata": {
        "id": "uktbPaQ1j0bk"
      }
    },
    {
      "cell_type": "code",
      "execution_count": null,
      "metadata": {
        "colab": {
          "base_uri": "https://localhost:8080/"
        },
        "id": "8hL6chJTfNQj",
        "outputId": "4f724c7e-a55e-42fe-fb1e-ed947577230f"
      },
      "outputs": [
        {
          "output_type": "stream",
          "name": "stdout",
          "text": [
            "Sequence number:  100\n",
            "(144, 100, 3)\n",
            "(144, 26)\n"
          ]
        }
      ],
      "source": [
        "import pandas as pd\n",
        "import numpy as np\n",
        "import torch, torchvision\n",
        "from torchvision import datasets, transforms\n",
        "from torch import nn, optim\n",
        "from torch.nn import functional as F\n",
        "import matplotlib.pyplot as plt\n",
        "from sklearn.metrics import confusion_matrix\n",
        "\n",
        "# # below is for loading data from google drive\n",
        "# from google.colab import drive\n",
        "# drive.mount('/content/drive', force_remount=True)\n",
        "\n",
        "sequence_num = 100\n",
        "partNo = \"0162B00100\" #料號編號\n",
        "print(\"Sequence number: \", sequence_num)\n",
        "\n",
        "# put your folder path, ex: '/content/drive/MyDrive/.../'\n",
        "folder_path = './'\n",
        "\n",
        "# put model name, ex: 'model.pt' for model path\n",
        "model_path = folder_path + 'model.pt'\n",
        "\n",
        "# put testing data and label npy file path, ex: 'x_test.npy', 'y_test.npy'\n",
        "X_train = np.load(folder_path + 'x_train.npy')\n",
        "X_test = np.load(folder_path + 'x_test.npy')\n",
        "Y_test = np.load(folder_path + 'y_test.npy')\n",
        "print(X_test.shape) #(testing_data_num, sequence_num, feature_num)\n",
        "print(Y_test.shape) #(testing_data_num, output_num)"
      ]
    },
    {
      "cell_type": "markdown",
      "source": [
        "#Load model\n",
        "Model class and setting for load model.\n",
        "If you testing after training model, you can pass."
      ],
      "metadata": {
        "id": "ZS-f_rvch5BG"
      }
    },
    {
      "cell_type": "code",
      "source": [
        "\"\"\"\n",
        "model class, should cpoy from training model\n",
        "\"\"\"\n",
        "class BiLSTM_layer(nn.Module):\n",
        "  def __init__(self, input_size, hidden_size, num_layers, bidirectional, batch_first=False):\n",
        "      super(BiLSTM_layer, self).__init__()\n",
        "      self.lstm = nn.LSTM(\n",
        "          input_size=input_size,\n",
        "          hidden_size=hidden_size,\n",
        "          num_layers=num_layers,\n",
        "          bidirectional=bidirectional,\n",
        "          batch_first=batch_first\n",
        "      )\n",
        "\n",
        "      self.fc = nn.Linear(hidden_size, 26)\n",
        "      \n",
        "\n",
        "  def forward(self, inputs):\n",
        "      out, (h_n, c_n) = self.lstm(inputs, None)\n",
        "      outputs = self.fc(torch.mean(h_n.squeeze(0), dim=0))\n",
        "\n",
        "      return outputs\n",
        "\n",
        "class DataEncoder(nn.Module):\n",
        "  def __init__(self, input_dim, output_dim, hidden_dim=3,dropout=0.4):\n",
        "    super(DataEncoder, self).__init__()\n",
        "    self.input_dim = input_dim\n",
        "    self.output_dim = output_dim\n",
        "    \n",
        "    self.net = nn.Sequential(nn.Linear(input_dim, hidden_dim),\n",
        "                              nn.ReLU(),\n",
        "                              nn.Dropout(dropout),\n",
        "                              nn.Linear(hidden_dim, output_dim)\n",
        "                            )\n",
        "  def forward(self, x):\n",
        "    return self.net(x)\n",
        "\n",
        "class minmax_RuleEncoder(nn.Module):\n",
        "  def __init__(self, input_dim, output_dim, hidden_dim=3,dropout=0.4):\n",
        "    super(minmax_RuleEncoder, self).__init__()\n",
        "    self.input_dim = input_dim\n",
        "    self.output_dim = output_dim\n",
        "    self.net = nn.Sequential(nn.Linear(input_dim, hidden_dim),\n",
        "                             nn.ReLU(),\n",
        "                             nn.Dropout(dropout),\n",
        "                             nn.Linear(hidden_dim, output_dim)\n",
        "                            )\n",
        "\n",
        "  def forward(self, x):\n",
        "    return self.net(x)\n",
        "    \n",
        "\n",
        "class outbound_RuleEncoder(nn.Module):\n",
        "  def __init__(self, input_dim, output_dim, hidden_dim=3,dropout=0.4):\n",
        "    super(outbound_RuleEncoder, self).__init__()\n",
        "    self.input_dim = input_dim\n",
        "    self.output_dim = output_dim\n",
        "    self.net = nn.Sequential(nn.Linear(input_dim, hidden_dim),\n",
        "                             nn.ReLU(),\n",
        "                             nn.Dropout(dropout),\n",
        "                             nn.Linear(hidden_dim, output_dim)\n",
        "                            )\n",
        "\n",
        "  def forward(self, x):\n",
        "    return self.net(x)\n",
        "    \n",
        "class DataonlyNet(nn.Module):\n",
        "  def __init__(self, input_dim, output_dim, data_encoder, hidden_dim=4, n_layers=2, skip=False, input_type='state'):\n",
        "    super(DataonlyNet, self).__init__()\n",
        "    self.skip = skip\n",
        "    self.input_type = input_type\n",
        "    self.data_encoder = data_encoder\n",
        "    self.n_layers = n_layers\n",
        "    self.input_dim_decision_block = self.data_encoder.output_dim\n",
        "\n",
        "    self.net = []\n",
        "    for i in range(n_layers):\n",
        "      if i == 0:\n",
        "        in_dim = self.input_dim_decision_block\n",
        "      else:\n",
        "        in_dim = hidden_dim\n",
        "\n",
        "      if i == n_layers-1:\n",
        "        out_dim = output_dim\n",
        "      else:\n",
        "        out_dim = hidden_dim\n",
        "\n",
        "      #self.net.append(nn.Linear(in_dim, out_dim))\n",
        "      \n",
        "      self.net.append(BiLSTM_layer(\n",
        "              input_size=in_dim,\n",
        "              hidden_size=64,\n",
        "              num_layers=1,\n",
        "              bidirectional=True,\n",
        "              batch_first=True\n",
        "          ))\n",
        "      \n",
        "      # self.net.append(nn.Flatten())\n",
        "      # self.net.append(nn.Linear(64, 26))\n",
        "      '''\n",
        "      if i != n_layers-1:\n",
        "        self.net.append(nn.ReLU())\n",
        "      '''\n",
        "      \n",
        "    #self.net.append(nn.ReLU())\n",
        "    self.net = nn.Sequential(*self.net)\n",
        "\n",
        "  def get_z(self, x, alpha=0.0):\n",
        "    data_z = self.data_encoder(x)\n",
        "\n",
        "    return data_z\n",
        "\n",
        "  def forward(self, x, alpha=0.0):    \n",
        "      data_z = self.data_encoder(x)\n",
        "      z=data_z\n",
        "      if self.skip:\n",
        "        if self.input_type == 'seq':\n",
        "          return self.net(z) + x[:,-1,:]\n",
        "        else:\n",
        "          return self.net(z) + x    \n",
        "      else:\n",
        "        return self.net(z) \n",
        "\n",
        "class Net(nn.Module):\n",
        "  def __init__(self, input_dim, output_dim, minmax_rule_encoder, outbound_rule_encoder, data_encoder, hidden_dim=3, n_layers=1, merge='cat', skip=False, input_type='state'):\n",
        "    super(Net, self).__init__()\n",
        "    self.skip = skip\n",
        "    self.input_type = input_type\n",
        "    self.minmax_rule_encoder = minmax_rule_encoder\n",
        "    self.outbound_rule_encoder = outbound_rule_encoder\n",
        "    self.data_encoder = data_encoder\n",
        "    self.n_layers = n_layers\n",
        "    assert self.minmax_rule_encoder.input_dim ==  self.data_encoder.input_dim\n",
        "    assert self.minmax_rule_encoder.output_dim ==  self.data_encoder.output_dim\n",
        "    self.merge = merge\n",
        "    if merge == 'cat':\n",
        "      self.input_dim_decision_block = self.minmax_rule_encoder.output_dim * 3\n",
        "    elif merge == 'add':\n",
        "      self.input_dim_decision_block = self.minmax_rule_encoder.output_dim\n",
        "\n",
        "    self.net = []\n",
        "    for i in range(n_layers):\n",
        "      if i == 0:\n",
        "        in_dim = self.input_dim_decision_block\n",
        "      else:\n",
        "        in_dim = hidden_dim\n",
        "\n",
        "      if i == n_layers-1:\n",
        "        out_dim = output_dim\n",
        "      else:\n",
        "        out_dim = hidden_dim\n",
        "\n",
        "      #self.net.append(nn.Linear(in_dim, out_dim))\n",
        "      \n",
        "      self.net.append(BiLSTM_layer(\n",
        "              input_size=in_dim,\n",
        "              hidden_size=64,\n",
        "              num_layers=1,\n",
        "              bidirectional=True,\n",
        "              batch_first=True\n",
        "          ))\n",
        "      \n",
        "      # self.net.append(nn.Flatten())\n",
        "      # self.net.append(nn.Linear(64, 26))\n",
        "     \n",
        "      \n",
        "    #self.net.append(nn.ReLU())\n",
        "    self.net = nn.Sequential(*self.net)\n",
        "\n",
        "  def get_z(self, x, alpha=0.1, beta=0.1):\n",
        "    minmax_rule_z = self.minmax_rule_encoder(x)\n",
        "    outbound_rule_z = self.outbound_rule_encoder(x)\n",
        "    data_z = self.data_encoder(x)\n",
        "\n",
        "    if self.merge=='add':\n",
        "      z = alpha*minmax_rule_z + beta*outbound_rule_z + (1-alpha-beta)*data_z    # merge: Add\n",
        "    elif self.merge=='cat':\n",
        "      z = torch.cat((alpha*minmax_rule_z , beta*outbound_rule_z , (1-alpha-beta)*data_z), dim=-1)    # merge: Concat\n",
        "    elif self.merge=='equal_cat':\n",
        "      z = torch.cat((minmax_rule_z,outbound_rule_z, data_z), dim=-1)    # merge: Concat\n",
        "\n",
        "    return z\n",
        "\n",
        "  def forward(self, x, alpha=0.1, beta=0.1):\n",
        "      # merge: cat or add\n",
        "      minmax_rule_z = self.minmax_rule_encoder(x)\n",
        "      outbound_rule_z = self.outbound_rule_encoder(x)\n",
        "      data_z = self.data_encoder(x)\n",
        "\n",
        "      if self.merge=='add':\n",
        "        z = alpha*minmax_rule_z + beta*outbound_rule_z + (1-alpha-beta)*data_z    # merge: Add\n",
        "      elif self.merge=='cat':\n",
        "        z = torch.cat((alpha*minmax_rule_z , beta*outbound_rule_z , (1-alpha-beta)*data_z), dim=-1)    # merge: Concat\n",
        "      elif self.merge=='equal_cat':\n",
        "        z = torch.cat((minmax_rule_z, outbound_rule_z, data_z), dim=-1)    # merge: Concat\n",
        "      else:\n",
        "        print(self.merge)\n",
        "      \n",
        "      # z = torch.flatten(z, start_dim=1)\n",
        "\n",
        "      if self.skip:\n",
        "        if self.input_type == 'seq':\n",
        "          return self.net(z) + x[:,-1,:]\n",
        "        else:\n",
        "          return self.net(z) + x    \n",
        "      else:\n",
        "        return self.net(z) \n",
        "        \n",
        "        try:\n",
        "          return self.net(z)   \n",
        "        except:\n",
        "          print(type(z))\n",
        "          print(z.shape)"
      ],
      "metadata": {
        "id": "eiLVi1k1eNfL"
      },
      "execution_count": null,
      "outputs": []
    },
    {
      "cell_type": "code",
      "source": [
        "\"\"\"\n",
        "model setting, should cpoy from training model\n",
        "\"\"\"\n",
        "merge = 'cat'\n",
        "\n",
        "input_dim = 3\n",
        "input_dim_encoder = 3\n",
        "output_dim_encoder = 2\n",
        "hidden_dim_encoder = 64\n",
        "hidden_dim_db = 64\n",
        "output_dim_encoder = output_dim_encoder\n",
        "hidden_dim_encoder = hidden_dim_encoder\n",
        "hidden_dim_db = hidden_dim_db\n",
        "output_dim = 26\n",
        "n_layers = 1\n",
        "use_type=''\n",
        "\n",
        "\n",
        "outbound_rule_encoder = outbound_RuleEncoder(input_dim, output_dim_encoder, hidden_dim_encoder,dropout=0.3)\n",
        "minmax_rule_encoder = minmax_RuleEncoder(input_dim, output_dim_encoder, hidden_dim_encoder,dropout=0.3)\n",
        "data_encoder = DataEncoder(input_dim, output_dim_encoder, hidden_dim_encoder,dropout=0.3)\n",
        "\n",
        "if use_type=='no_rule':\n",
        "  model = Net(input_dim, output_dim, minmax_rule_encoder, outbound_rule_encoder, data_encoder, hidden_dim=hidden_dim_db, n_layers=n_layers, merge=merge)\n",
        "else:\n",
        "  model =DataonlyNet (input_dim, output_dim, data_encoder, hidden_dim=hidden_dim_db, n_layers=n_layers)"
      ],
      "metadata": {
        "id": "gqwEM_Icedib"
      },
      "execution_count": null,
      "outputs": []
    },
    {
      "cell_type": "code",
      "source": [
        "\"\"\"\n",
        "Load model, and change X_test to tensor\n",
        "\"\"\"\n",
        "model = torch.load(model_path)\n",
        "model.eval()\n",
        "\n",
        "X_test = torch.tensor(X_test).to(torch.float32)"
      ],
      "metadata": {
        "id": "mqHwE_iXkqij"
      },
      "execution_count": null,
      "outputs": []
    },
    {
      "cell_type": "markdown",
      "source": [
        "#Testing"
      ],
      "metadata": {
        "id": "T8n5R8KzksjO"
      }
    },
    {
      "cell_type": "code",
      "source": [
        "with torch.no_grad():\n",
        "  pred = model(X_test, alpha=0.1, beta=0.1)"
      ],
      "metadata": {
        "id": "DIk1Trzfefc8"
      },
      "execution_count": null,
      "outputs": []
    },
    {
      "cell_type": "code",
      "source": [
        "\"\"\"\n",
        "規格判斷, data可以是真實或預測結果, partNo為料號編號\n",
        "\"\"\"\n",
        "def measure_std(data, partNo):\n",
        "  measure = []\n",
        "  for data_num in range(len(data)):\n",
        "    partNo = partNo\n",
        "    if partNo == \"0162B00100\":\n",
        "      max_std = [3.35, 2.30, 6.30, 2.77, 2.30, 3.37, 2.54, 0.42, 0.63, 0.63, 0.63, 0.63, 0.63]\n",
        "      min_std = [3.25, 2.20, 6.14, 2.63, 2.10, 3.23, 2.34, 0.38, 0.53, 0.53, 0.53, 0.53, 0.53]\n",
        "\n",
        "    elif partNo == \"0162B00200\":\n",
        "      max_std = [3.35, 2.30, 6.30, 2.77, 3.37, 2.54, 0.42, 2.30, 0.63, 0.63, 0.63, 0.63, 0.63]\n",
        "      min_std = [3.25, 2.20, 6.14, 2.63, 3.23, 2.34, 0.38, 2.10, 0.53, 0.53, 0.53, 0.53, 0.53]\n",
        "\n",
        "    elif partNo == \"0162B00200-1\":\n",
        "      max_std = [2.28, 2.28, 2.28, 2.28, 3.35, 3.35, 2.29, 2.29, 10.48, 14.50, 1.19, 1.36, 136.50]\n",
        "      min_std = [2.12, 2.12, 2.12, 2.12, 3.25, 3.25, 2.21, 2.21, 10.32, 14.10, 1.13, 1.20, 133.50]\n",
        "\n",
        "    elif partNo == \"0162B01100\":\n",
        "      max_std = [3.35, 2.30, 6.30, 2.77, 3.37, 2.54, 0.42, 2.30, 0.63, 0.63, 0.63, 0.63, 0.63]\n",
        "      min_std = [3.25, 2.20, 6.14, 2.63, 3.23, 2.34, 0.38, 2.10, 0.53, 0.53, 0.53, 0.53, 0.53]\n",
        "\n",
        "    elif partNo == \"0162B01100-1\":\n",
        "      max_std = [2.28, 2.28, 2.28, 2.28, 3.35, 3.35, 2.29, 2.29, 10.48, 14.50, 1.19, 1.36, 136.50]\n",
        "      min_std = [2.12, 2.12, 2.12, 2.12, 3.25, 3.25, 2.21, 2.21, 10.32, 14.10, 1.13, 1.20, 133.50]\n",
        "\n",
        "    else:\n",
        "      return \"Error\"\n",
        "\n",
        "    wrong = False\n",
        "    for detail_num in range(13):\n",
        "      if data[data_num][detail_num] > max_std[detail_num] or data[data_num][detail_num] < min_std[detail_num]:\n",
        "        wrong = True\n",
        "      \n",
        "      if data[data_num][detail_num+13] > max_std[detail_num] or data[data_num][detail_num+13] < min_std[detail_num]: \n",
        "        wrong = True\n",
        "\n",
        "    if wrong == True:\n",
        "      measure.append(0) # notok\n",
        "    else:\n",
        "      measure.append(1) # ok\n",
        "\n",
        "  return measure"
      ],
      "metadata": {
        "id": "rWKb6WlcJaiK"
      },
      "execution_count": null,
      "outputs": []
    },
    {
      "cell_type": "code",
      "execution_count": null,
      "metadata": {
        "id": "jSmDeWbKulPT",
        "colab": {
          "base_uri": "https://localhost:8080/"
        },
        "outputId": "227d3574-82c6-44f9-e186-b09623105993"
      },
      "outputs": [
        {
          "output_type": "stream",
          "name": "stdout",
          "text": [
            "       0    1         2      3    4         5      6    7         8      9  \\\n",
            "0  321.0  2.0  5.366667  321.0  2.0  5.350000  321.0  2.0  5.350000  321.0   \n",
            "1  330.0  2.0  2.866667  346.0  1.0  3.966667  330.0  2.0  5.483333  330.0   \n",
            "2  310.0  2.0  5.150000  310.0  2.0  5.183333  310.0  2.0  0.183333  325.0   \n",
            "3  310.0  2.0  5.133333  310.0  2.0  5.150000  310.0  2.0  5.116667  310.0   \n",
            "4  310.0  2.0  5.133333  310.0  2.0  5.183333  310.0  2.0  2.950000  325.0   \n",
            "5  325.0  1.0  0.950000  310.0  2.0  5.133333  310.0  2.0  5.150000  310.0   \n",
            "6  310.0  2.0  5.150000  310.0  2.0  5.150000  310.0  2.0  5.166667  310.0   \n",
            "7  321.0  1.0  5.366667  321.0  2.0  2.833333  348.0  1.0  3.083333  188.0   \n",
            "8   52.0  4.0  0.016667  224.0  4.0  0.016667  421.0  1.0  0.900000  401.0   \n",
            "9  351.0  1.0  4.116667  334.0  2.0  5.566667  334.0  2.0  5.566667  334.0   \n",
            "\n",
            "   ...  true23    pred23  true24    pred24  true25    pred25  true26  \\\n",
            "0  ...   0.546  0.573602   0.553  0.559123   0.551  0.554407   0.543   \n",
            "1  ...   0.536  0.573601   0.539  0.559118   0.537  0.554409   0.548   \n",
            "2  ...   0.555  0.573606   0.538  0.559122   0.542  0.554409   0.541   \n",
            "3  ...   0.571  0.573606   0.566  0.559122   0.559  0.554409   0.567   \n",
            "4  ...   0.560  0.573608   0.562  0.559122   0.557  0.554410   0.549   \n",
            "5  ...   0.547  0.573604   0.558  0.559123   0.556  0.554408   0.565   \n",
            "6  ...   0.572  0.573606   0.589  0.559119   0.573  0.554406   0.575   \n",
            "7  ...   0.535  0.573532   0.541  0.558951   0.536  0.554261   0.540   \n",
            "8  ...   0.554  0.572129   0.551  0.560537   0.548  0.545549   0.542   \n",
            "9  ...   0.544  0.573811   0.551  0.559011   0.554  0.554565   0.543   \n",
            "\n",
            "     pred26  measure_true  measure_pred  \n",
            "0  0.560764             1             1  \n",
            "1  0.560766             1             1  \n",
            "2  0.560762             1             1  \n",
            "3  0.560762             1             1  \n",
            "4  0.560762             1             1  \n",
            "5  0.560763             1             1  \n",
            "6  0.560760             1             1  \n",
            "7  0.560646             1             1  \n",
            "8  0.565532             1             0  \n",
            "9  0.560713             1             1  \n",
            "\n",
            "[10 rows x 354 columns]\n"
          ]
        }
      ],
      "source": [
        "\"\"\"\n",
        "將所有資料以dataframe形式存入csv中\n",
        "欄位0~299為data, true+編號 為真實值, pred+編號 為預測值,\n",
        " measure_true為真實良品/不良品, measure_pred為預測良品/不良品\n",
        "\"\"\"\n",
        "df = pd.DataFrame(X_test.reshape(-1, sequence_num*3).numpy())\n",
        "y_df = pd.DataFrame(Y_test)\n",
        "p_df = pd.DataFrame(pred.numpy())\n",
        "\n",
        "for i in range(26):\n",
        "  df['true'+str(i+1)] = y_df[i]\n",
        "  df['pred'+str(i+1)] = p_df[i]\n",
        "\n",
        "measure_true = np.array(measure_std(Y_test, partNo))\n",
        "measure_pred = np.array(measure_std(pred, partNo))\n",
        "\n",
        "df['measure_true'] = measure_true\n",
        "df['measure_pred'] = measure_pred\n",
        "\n",
        "df.to_csv(folder_path +\"/test.csv\", header=True, index=True) \n",
        "print(df.head(10))"
      ]
    },
    {
      "cell_type": "code",
      "source": [
        "\"\"\"\n",
        "計算個數及準確率\n",
        "整體準確率 = (真實良品&預測良品筆數 + 真實不良品&預測不良品筆數) / 總筆數 \n",
        "良品準確率 = 真實良品&預測良品筆數  / 真實良品筆數 \n",
        "不良品準確率 = 真實不良品&預測不良品筆數  / 真實不良品筆數\n",
        "\"\"\"\n",
        "test_measure_ok=0\n",
        "pred_measure_ok=0\n",
        "test_measure_nok=0\n",
        "pred_measure_nok=0\n",
        "test_measure_ok_arr=[]\n",
        "pred_measure_ok_arr=[]\n",
        "X_test_correct=[]\n",
        "X_test_wrong=[]\n",
        "\n",
        "for test_num in range(len(X_test)):\n",
        "  if measure_true[test_num]==1:\n",
        "    test_measure_ok +=1\n",
        "    test_measure_ok_arr.append(1)\n",
        "    if measure_pred[test_num]==1:\n",
        "      pred_measure_ok +=1\n",
        "      pred_measure_ok_arr.append(1)\n",
        "      X_test_correct.append(X_test[test_num].numpy())\n",
        "    else:\n",
        "      pred_measure_ok_arr.append(0)\n",
        "      X_test_wrong.append(X_test[test_num].numpy())\n",
        "     \n",
        "  else:\n",
        "    test_measure_nok +=1\n",
        "    test_measure_ok_arr.append(0)\n",
        "    if measure_pred[test_num]==1:\n",
        "      pred_measure_ok_arr.append(1)\n",
        "      X_test_wrong.append(X_test[test_num].numpy())\n",
        "    else:\n",
        "      pred_measure_nok +=1\n",
        "      pred_measure_ok_arr.append(0)\n",
        "      X_test_correct.append(X_test[test_num].numpy())\n",
        "\n",
        "\n",
        "print(\"實際值良品：\",test_measure_ok,\"個\")\n",
        "print(\"實際值良品 & 預測值良品：\",pred_measure_ok,\"個\")\n",
        "print(\"良品預測準確率：\",pred_measure_ok/test_measure_ok)\n",
        "print()\n",
        "print(\"實際值不良品：\",test_measure_nok,\"個\")\n",
        "print(\"實際值不良品 & 預測值不良品：\",pred_measure_nok,\"個\")\n",
        "if test_measure_nok != 0:\n",
        "  print(\"不良品預測準確率：\",pred_measure_nok/test_measure_nok)\n",
        "else:\n",
        "  print(\"不良品預測準確率：\",\"無不良品\")\n",
        "print()\n",
        "print(\"準確率：\",(pred_measure_ok+pred_measure_nok)/len(X_test))"
      ],
      "metadata": {
        "id": "B_9lXMINuAf3",
        "colab": {
          "base_uri": "https://localhost:8080/"
        },
        "outputId": "ada033b2-62ac-4c19-c90f-0dcbcc278c6d"
      },
      "execution_count": null,
      "outputs": [
        {
          "output_type": "stream",
          "name": "stdout",
          "text": [
            "實際值良品： 143 個\n",
            "實際值良品 & 預測值良品： 140 個\n",
            "良品預測準確率： 0.9790209790209791\n",
            "\n",
            "實際值不良品： 1 個\n",
            "實際值不良品 & 預測值不良品： 0 個\n",
            "不良品預測準確率： 0.0\n",
            "\n",
            "準確率： 0.9722222222222222\n"
          ]
        }
      ]
    },
    {
      "cell_type": "code",
      "source": [
        "\"\"\"\n",
        "將預測正確與錯誤之data另外儲存\n",
        "\"\"\"\n",
        "np.save(folder_path + 'x_test_correct.npy', X_test_correct)\n",
        "np.save(folder_path + 'x_test_wrong.npy', X_test_wrong)\n",
        "print(\"Correct num:\", len(X_test_correct))\n",
        "print(\"Wrong num:\", len(X_test_wrong))"
      ],
      "metadata": {
        "colab": {
          "base_uri": "https://localhost:8080/"
        },
        "id": "PBOVrVQ_uNL9",
        "outputId": "fae39a26-d676-4203-af14-ad7f3ac3d4ce"
      },
      "execution_count": null,
      "outputs": [
        {
          "output_type": "stream",
          "name": "stdout",
          "text": [
            "Correct num: 140\n",
            "Wrong num: 4\n"
          ]
        }
      ]
    },
    {
      "cell_type": "code",
      "source": [
        "\"\"\"\n",
        "Show testing confusion matrix\n",
        "0為不良品, 1為良品\n",
        "\"\"\"\n",
        "conf_matrix = confusion_matrix(y_true=test_measure_ok_arr, y_pred=pred_measure_ok_arr)\n",
        "fig, ax = plt.subplots(figsize=(5, 5))\n",
        "ax.matshow(conf_matrix, cmap=plt.cm.Oranges, alpha=0.3)\n",
        "for i in range(conf_matrix.shape[0]):\n",
        "    for j in range(conf_matrix.shape[1]):\n",
        "        ax.text(x=j, y=i,s=conf_matrix[i, j], va='center', ha='center', size='xx-large')\n",
        " \n",
        "plt.xlabel('Predictions', fontsize=16)\n",
        "plt.ylabel('Actuals', fontsize=16)\n",
        "plt.title('Confusion Matrix', fontsize=16)\n",
        "plt.show()"
      ],
      "metadata": {
        "colab": {
          "base_uri": "https://localhost:8080/",
          "height": 353
        },
        "id": "99PxWdgVuNwV",
        "outputId": "1e4f5c0c-ab23-4639-e60e-c89737a36dde"
      },
      "execution_count": null,
      "outputs": [
        {
          "output_type": "display_data",
          "data": {
            "text/plain": [
              "<Figure size 360x360 with 1 Axes>"
            ],
            "image/png": "[encoded data removed]"
          },
          "metadata": {
            "needs_background": "light"
          }
        }
      ]
    },
    {
      "cell_type": "markdown",
      "source": [
        "#Analysis"
      ],
      "metadata": {
        "id": "3CQ1e6ErpkRA"
      }
    },
    {
      "cell_type": "markdown",
      "source": [
        "##Confusion matrix for each detail"
      ],
      "metadata": {
        "id": "XseFEl_MtU__"
      }
    },
    {
      "cell_type": "code",
      "source": [
        "# put testing data and output file path, ex: 'test.csv'\n",
        "data_all = pd.read_csv(folder_path+'test.csv')\n",
        "\n",
        "\"\"\"\n",
        "將csv檔案內資料整理為np array\n",
        "\"\"\"\n",
        "measure_true = data_all['measure_true'] #真實良品/不良品\n",
        "measure_pred = data_all['measure_pred'] #預測良品/不良品\n",
        "\n",
        "true_name = []\n",
        "pred_name = []\n",
        "for i in range(1,27):\n",
        "  true_name.append('true'+str(i))\n",
        "  pred_name.append('pred'+str(i))\n",
        "\n",
        "Y_test = pd.DataFrame()\n",
        "pred = pd.DataFrame()\n",
        "for num in range(26):\n",
        "  Y_test = pd.concat([Y_test, data_all[true_name[num]]],axis=1) #真實值\n",
        "  pred = pd.concat([pred, data_all[pred_name[num]]],axis=1)     #預測值\n",
        "\n",
        "Y_test = np.array(Y_test)\n",
        "pred = np.array(pred)\n",
        "\n",
        "print(measure_true.shape) #(data_num)\n",
        "print(measure_pred.shape) #(data_num)\n",
        "print(Y_test.shape)       #(data_num, output_num)\n",
        "print(pred.shape)         #(data_num, output_num)"
      ],
      "metadata": {
        "colab": {
          "base_uri": "https://localhost:8080/"
        },
        "id": "puuauEB0IPRa",
        "outputId": "6cc8731b-9a77-4194-a7c6-bcf5eb896ea6"
      },
      "execution_count": null,
      "outputs": [
        {
          "output_type": "stream",
          "name": "stdout",
          "text": [
            "(144,)\n",
            "(144,)\n",
            "(144, 26)\n",
            "(144, 26)\n"
          ]
        }
      ]
    },
    {
      "cell_type": "code",
      "source": [
        "\"\"\"\n",
        "規格判斷 for detail, 以單筆資料判斷良品/不良品\n",
        "data可以是真實或預測結果, partNo為料號編號, num為資料編號\n",
        "\"\"\"\n",
        "def measure_std_detail(data, partNo, num):\n",
        "  detail_num = num\n",
        "  partNo = partNo\n",
        "  if partNo == \"0162B00100\":\n",
        "    max_std = [3.35, 2.30, 6.30, 2.77, 2.30, 3.37, 2.54, 0.42, 0.63, 0.63, 0.63, 0.63, 0.63]\n",
        "    min_std = [3.25, 2.20, 6.14, 2.63, 2.10, 3.23, 2.34, 0.38, 0.53, 0.53, 0.53, 0.53, 0.53]\n",
        "\n",
        "  elif partNo == \"0162B00200\":\n",
        "    max_std = [3.35, 2.30, 6.30, 2.77, 3.37, 2.54, 0.42, 2.30, 0.63, 0.63, 0.63, 0.63, 0.63]\n",
        "    min_std = [3.25, 2.20, 6.14, 2.63, 3.23, 2.34, 0.38, 2.10, 0.53, 0.53, 0.53, 0.53, 0.53]\n",
        "\n",
        "  elif partNo == \"0162B00200-1\":\n",
        "    max_std = [2.28, 2.28, 2.28, 2.28, 3.35, 3.35, 2.29, 2.29, 10.48, 14.50, 1.19, 1.36, 136.50]\n",
        "    min_std = [2.12, 2.12, 2.12, 2.12, 3.25, 3.25, 2.21, 2.21, 10.32, 14.10, 1.13, 1.20, 133.50]\n",
        "\n",
        "  elif partNo == \"0162B01100\":\n",
        "    max_std = [3.35, 2.30, 6.30, 2.77, 3.37, 2.54, 0.42, 2.30, 0.63, 0.63, 0.63, 0.63, 0.63]\n",
        "    min_std = [3.25, 2.20, 6.14, 2.63, 3.23, 2.34, 0.38, 2.10, 0.53, 0.53, 0.53, 0.53, 0.53]\n",
        "\n",
        "  elif partNo == \"0162B01100-1\":\n",
        "    max_std = [2.28, 2.28, 2.28, 2.28, 3.35, 3.35, 2.29, 2.29, 10.48, 14.50, 1.19, 1.36, 136.50]\n",
        "    min_std = [2.12, 2.12, 2.12, 2.12, 3.25, 3.25, 2.21, 2.21, 10.32, 14.10, 1.13, 1.20, 133.50]\n",
        "\n",
        "  else:\n",
        "    return \"Error\"\n",
        "\n",
        "  wrong = False\n",
        "\n",
        "  if data[detail_num] > max_std[detail_num] or data[detail_num] < min_std[detail_num]:\n",
        "    wrong = True\n",
        "  \n",
        "  if data[detail_num+13] > max_std[detail_num] or data[detail_num+13] < min_std[detail_num]: \n",
        "    wrong = True\n",
        "\n",
        "  return wrong #不良品=True, 良品=False"
      ],
      "metadata": {
        "id": "dxPLHKOtIao_"
      },
      "execution_count": null,
      "outputs": []
    },
    {
      "cell_type": "code",
      "source": [
        "\"\"\"\n",
        "計算各detail的個數及準確率, confusion matrix\n",
        "整體準確率 = (真實良品&預測良品筆數 + 真實不良品&預測不良品筆數) / 總筆數 \n",
        "良品準確率 = 真實良品&預測良品筆數  / 真實良品筆數 \n",
        "不良品準確率 = 真實不良品&預測不良品筆數  / 真實不良品筆數\n",
        "\"\"\"\n",
        "for detail_num in range(13):\n",
        "  print(\"detail \", detail_num+1)\n",
        "  test_measure_ok=0\n",
        "  pred_measure_ok=0\n",
        "  test_measure_nok=0\n",
        "  pred_measure_nok=0\n",
        "  test_measure_ok_arr=[]\n",
        "  pred_measure_ok_arr=[]\n",
        "\n",
        "  for test_num in range(len(Y_test)):\n",
        "    if measure_std_detail(Y_test[test_num], partNo, detail_num)==False:\n",
        "      test_measure_ok +=1\n",
        "      test_measure_ok_arr.append(1)\n",
        "      if measure_std_detail(pred[test_num], partNo, detail_num)==False:\n",
        "        pred_measure_ok +=1\n",
        "        pred_measure_ok_arr.append(1)\n",
        "      else:\n",
        "        pred_measure_ok_arr.append(0)\n",
        "      \n",
        "    else:\n",
        "      test_measure_nok +=1\n",
        "      test_measure_ok_arr.append(0)\n",
        "      if measure_std_detail(pred[test_num], partNo, detail_num)==False:\n",
        "        pred_measure_ok_arr.append(1)\n",
        "      else:\n",
        "        pred_measure_nok +=1\n",
        "        pred_measure_ok_arr.append(0)\n",
        "\n",
        "  print(\"實際值良品：\",test_measure_ok,\"個\")\n",
        "  print(\"實際值良品 & 預測值良品：\",pred_measure_ok,\"個\")\n",
        "  print(\"良品預測準確率：\",pred_measure_ok/test_measure_ok)\n",
        "  print()\n",
        "  print(\"實際值不良品：\",test_measure_nok,\"個\")\n",
        "  print(\"實際值不良品 & 預測值不良品：\",pred_measure_nok,\"個\")\n",
        "  if test_measure_nok != 0:\n",
        "    print(\"不良品預測準確率：\",pred_measure_nok/test_measure_nok)\n",
        "  else:\n",
        "    print(\"不良品預測準確率：\",\"無不良品\")\n",
        "  print()\n",
        "  print(\"準確率：\",(pred_measure_ok+pred_measure_nok)/len(Y_test))\n",
        "\n",
        "  \"\"\"\n",
        "  Show confusion matrix for each detail\n",
        "  0為不良品, 1為良品\n",
        "  \"\"\"\n",
        "  conf_matrix = confusion_matrix(y_true=test_measure_ok_arr, y_pred=pred_measure_ok_arr)\n",
        "  fig, ax = plt.subplots(figsize=(5, 5))\n",
        "  ax.matshow(conf_matrix, cmap=plt.cm.Oranges, alpha=0.3)\n",
        "  for i in range(conf_matrix.shape[0]):\n",
        "    for j in range(conf_matrix.shape[1]):\n",
        "        ax.text(x=j, y=i,s=conf_matrix[i, j], va='center', ha='center', size='xx-large')\n",
        "\n",
        "  plt.xlabel('Predictions', fontsize=16)\n",
        "  plt.ylabel('Actuals', fontsize=16)\n",
        "  plt.title('detail '+str(detail_num+1)+' Confusion Matrix', fontsize=16)\n",
        "  # plt.savefig(folder_path+'cm_detail'+str(detail_num+1)+'.jpg')\n",
        "  plt.show()"
      ],
      "metadata": {
        "colab": {
          "base_uri": "https://localhost:8080/",
          "height": 1000
        },
        "id": "UYfM86HxIoEi",
        "outputId": "68d3cf55-c167-4826-eb01-5dbb580bdd2f"
      },
      "execution_count": null,
      "outputs": [
        {
          "output_type": "stream",
          "name": "stdout",
          "text": [
            "detail  1\n",
            "實際值良品： 144 個\n",
            "實際值良品 & 預測值良品： 144 個\n",
            "良品預測準確率： 1.0\n",
            "\n",
            "實際值不良品： 0 個\n",
            "實際值不良品 & 預測值不良品： 0 個\n",
            "不良品預測準確率： 無不良品\n",
            "\n",
            "準確率： 1.0\n"
          ]
        },
        {
          "output_type": "display_data",
          "data": {
            "text/plain": [
              "<Figure size 360x360 with 1 Axes>"
            ],
            "image/png": "[encoded data removed]"
          },
          "metadata": {
            "needs_background": "light"
          }
        },
        {
          "output_type": "stream",
          "name": "stdout",
          "text": [
            "detail  2\n",
            "實際值良品： 144 個\n",
            "實際值良品 & 預測值良品： 144 個\n",
            "良品預測準確率： 1.0\n",
            "\n",
            "實際值不良品： 0 個\n",
            "實際值不良品 & 預測值不良品： 0 個\n",
            "不良品預測準確率： 無不良品\n",
            "\n",
            "準確率： 1.0\n"
          ]
        },
        {
          "output_type": "display_data",
          "data": {
            "text/plain": [
              "<Figure size 360x360 with 1 Axes>"
            ],
            "image/png": "[encoded data removed]"
          },
          "metadata": {
            "needs_background": "light"
          }
        },
        {
          "output_type": "stream",
          "name": "stdout",
          "text": [
            "detail  3\n",
            "實際值良品： 144 個\n",
            "實際值良品 & 預測值良品： 144 個\n",
            "良品預測準確率： 1.0\n",
            "\n",
            "實際值不良品： 0 個\n",
            "實際值不良品 & 預測值不良品： 0 個\n",
            "不良品預測準確率： 無不良品\n",
            "\n",
            "準確率： 1.0\n"
          ]
        },
        {
          "output_type": "display_data",
          "data": {
            "text/plain": [
              "<Figure size 360x360 with 1 Axes>"
            ],
            "image/png": "[encoded data removed]"
          },
          "metadata": {
            "needs_background": "light"
          }
        },
        {
          "output_type": "stream",
          "name": "stdout",
          "text": [
            "detail  4\n",
            "實際值良品： 144 個\n",
            "實際值良品 & 預測值良品： 144 個\n",
            "良品預測準確率： 1.0\n",
            "\n",
            "實際值不良品： 0 個\n",
            "實際值不良品 & 預測值不良品： 0 個\n",
            "不良品預測準確率： 無不良品\n",
            "\n",
            "準確率： 1.0\n"
          ]
        },
        {
          "output_type": "display_data",
          "data": {
            "text/plain": [
              "<Figure size 360x360 with 1 Axes>"
            ],
            "image/png": "[encoded data removed]"
          },
          "metadata": {
            "needs_background": "light"
          }
        },
        {
          "output_type": "stream",
          "name": "stdout",
          "text": [
            "detail  5\n",
            "實際值良品： 143 個\n",
            "實際值良品 & 預測值良品： 143 個\n",
            "良品預測準確率： 1.0\n",
            "\n",
            "實際值不良品： 1 個\n",
            "實際值不良品 & 預測值不良品： 0 個\n",
            "不良品預測準確率： 0.0\n",
            "\n",
            "準確率： 0.9930555555555556\n"
          ]
        },
        {
          "output_type": "display_data",
          "data": {
            "text/plain": [
              "<Figure size 360x360 with 1 Axes>"
            ],
            "image/png": "[encoded data removed]"
          },
          "metadata": {
            "needs_background": "light"
          }
        },
        {
          "output_type": "stream",
          "name": "stdout",
          "text": [
            "detail  6\n",
            "實際值良品： 144 個\n",
            "實際值良品 & 預測值良品： 141 個\n",
            "良品預測準確率： 0.9791666666666666\n",
            "\n",
            "實際值不良品： 0 個\n",
            "實際值不良品 & 預測值不良品： 0 個\n",
            "不良品預測準確率： 無不良品\n",
            "\n",
            "準確率： 0.9791666666666666\n"
          ]
        },
        {
          "output_type": "display_data",
          "data": {
            "text/plain": [
              "<Figure size 360x360 with 1 Axes>"
            ],
            "image/png": "[encoded data removed]"
          },
          "metadata": {
            "needs_background": "light"
          }
        },
        {
          "output_type": "stream",
          "name": "stdout",
          "text": [
            "detail  7\n",
            "實際值良品： 144 個\n",
            "實際值良品 & 預測值良品： 144 個\n",
            "良品預測準確率： 1.0\n",
            "\n",
            "實際值不良品： 0 個\n",
            "實際值不良品 & 預測值不良品： 0 個\n",
            "不良品預測準確率： 無不良品\n",
            "\n",
            "準確率： 1.0\n"
          ]
        },
        {
          "output_type": "display_data",
          "data": {
            "text/plain": [
              "<Figure size 360x360 with 1 Axes>"
            ],
            "image/png": "[encoded data removed]"
          },
          "metadata": {
            "needs_background": "light"
          }
        },
        {
          "output_type": "stream",
          "name": "stdout",
          "text": [
            "detail  8\n",
            "實際值良品： 144 個\n",
            "實際值良品 & 預測值良品： 144 個\n",
            "良品預測準確率： 1.0\n",
            "\n",
            "實際值不良品： 0 個\n",
            "實際值不良品 & 預測值不良品： 0 個\n",
            "不良品預測準確率： 無不良品\n",
            "\n",
            "準確率： 1.0\n"
          ]
        },
        {
          "output_type": "display_data",
          "data": {
            "text/plain": [
              "<Figure size 360x360 with 1 Axes>"
            ],
            "image/png": "[encoded data removed]"
          },
          "metadata": {
            "needs_background": "light"
          }
        },
        {
          "output_type": "stream",
          "name": "stdout",
          "text": [
            "detail  9\n",
            "實際值良品： 144 個\n",
            "實際值良品 & 預測值良品： 143 個\n",
            "良品預測準確率： 0.9930555555555556\n",
            "\n",
            "實際值不良品： 0 個\n",
            "實際值不良品 & 預測值不良品： 0 個\n",
            "不良品預測準確率： 無不良品\n",
            "\n",
            "準確率： 0.9930555555555556\n"
          ]
        },
        {
          "output_type": "display_data",
          "data": {
            "text/plain": [
              "<Figure size 360x360 with 1 Axes>"
            ],
            "image/png": "[encoded data removed]"
          },
          "metadata": {
            "needs_background": "light"
          }
        },
        {
          "output_type": "stream",
          "name": "stdout",
          "text": [
            "detail  10\n",
            "實際值良品： 144 個\n",
            "實際值良品 & 預測值良品： 144 個\n",
            "良品預測準確率： 1.0\n",
            "\n",
            "實際值不良品： 0 個\n",
            "實際值不良品 & 預測值不良品： 0 個\n",
            "不良品預測準確率： 無不良品\n",
            "\n",
            "準確率： 1.0\n"
          ]
        },
        {
          "output_type": "display_data",
          "data": {
            "text/plain": [
              "<Figure size 360x360 with 1 Axes>"
            ],
            "image/png": "[encoded data removed]"
          },
          "metadata": {
            "needs_background": "light"
          }
        },
        {
          "output_type": "stream",
          "name": "stdout",
          "text": [
            "detail  11\n",
            "實際值良品： 144 個\n",
            "實際值良品 & 預測值良品： 144 個\n",
            "良品預測準確率： 1.0\n",
            "\n",
            "實際值不良品： 0 個\n",
            "實際值不良品 & 預測值不良品： 0 個\n",
            "不良品預測準確率： 無不良品\n",
            "\n",
            "準確率： 1.0\n"
          ]
        },
        {
          "output_type": "display_data",
          "data": {
            "text/plain": [
              "<Figure size 360x360 with 1 Axes>"
            ],
            "image/png": "[encoded data removed]"
          },
          "metadata": {
            "needs_background": "light"
          }
        },
        {
          "output_type": "stream",
          "name": "stdout",
          "text": [
            "detail  12\n",
            "實際值良品： 144 個\n",
            "實際值良品 & 預測值良品： 143 個\n",
            "良品預測準確率： 0.9930555555555556\n",
            "\n",
            "實際值不良品： 0 個\n",
            "實際值不良品 & 預測值不良品： 0 個\n",
            "不良品預測準確率： 無不良品\n",
            "\n",
            "準確率： 0.9930555555555556\n"
          ]
        },
        {
          "output_type": "display_data",
          "data": {
            "text/plain": [
              "<Figure size 360x360 with 1 Axes>"
            ],
            "image/png": "[encoded data removed]"
          },
          "metadata": {
            "needs_background": "light"
          }
        },
        {
          "output_type": "stream",
          "name": "stdout",
          "text": [
            "detail  13\n",
            "實際值良品： 144 個\n",
            "實際值良品 & 預測值良品： 144 個\n",
            "良品預測準確率： 1.0\n",
            "\n",
            "實際值不良品： 0 個\n",
            "實際值不良品 & 預測值不良品： 0 個\n",
            "不良品預測準確率： 無不良品\n",
            "\n",
            "準確率： 1.0\n"
          ]
        },
        {
          "output_type": "display_data",
          "data": {
            "text/plain": [
              "<Figure size 360x360 with 1 Axes>"
            ],
            "image/png": "[encoded data removed]"
          },
          "metadata": {
            "needs_background": "light"
          }
        }
      ]
    },
    {
      "cell_type": "markdown",
      "source": [
        "##Error distribution histogram"
      ],
      "metadata": {
        "id": "5iNgiv8RTuJ_"
      }
    },
    {
      "cell_type": "code",
      "source": [
        "\"\"\"\n",
        "Error distribution histogram\n",
        "\"\"\"\n",
        "def detail_wrong_pic(detail_00_max, detail_00_min, detail_01_max, detail_01_min, detail_10_max, detail_10_min):\n",
        "  plt.figure(figsize=(12,4))\n",
        "  labels=[]\n",
        "\n",
        "  for i in range(1,14):\n",
        "    labels.append(\"detail\"+str(i))\n",
        "\n",
        "  x = np.arange(1,14)\n",
        "  width = 0.25\n",
        "\n",
        "  plt.bar(x - width/2, detail_01_max, color=\"lightblue\",label=\"true > std(max)\",width= 0.25)\n",
        "  plt.bar(x + width/2, detail_01_min, color=\"lightgrey\",label=\"true < std(min)\",width= 0.25)\n",
        "  plt.bar(x - width/2, detail_00_max, bottom = detail_01_max, color=\"steelblue\",label=\"true > std & pred > std(max)\",width= 0.25)\n",
        "  plt.bar(x + width/2, detail_00_min, bottom = detail_01_min, color=\"dimgrey\",label=\"true < std & pred < std(min)\", tick_label=labels,width= 0.25)\n",
        "  plt.bar(x - width/2, detail_10_max, bottom = detail_00_max+detail_01_max, color=\"lightsteelblue\",label=\"pred > std(max)\",width= 0.25)\n",
        "  plt.bar(x + width/2, detail_10_min, bottom = detail_00_min+detail_01_min, color=\"darkgrey\",label=\"pred < std(min)\",width= 0.25)\n",
        "  plt.legend(loc='upper left')\n",
        "  # plt.savefig(folder_path+'detail_wrong.jpg')\n",
        "  plt.show()"
      ],
      "metadata": {
        "id": "MDZPTKCodqWO"
      },
      "execution_count": null,
      "outputs": []
    },
    {
      "cell_type": "code",
      "source": [
        "\"\"\"\n",
        "規格判斷, 計算 真實不良&預測不良, 真實不良&預測良, 真實良&預測不良\n",
        "\"\"\"\n",
        "def measure_std(partNo):\n",
        "  measure = []\n",
        "  \n",
        "  for data_num in range(len(Y_test)):\n",
        "    partNo = partNo\n",
        "    if partNo == \"0162B00100\":\n",
        "      max_std = [3.35, 2.30, 6.30, 2.77, 2.30, 3.37, 2.54, 0.42, 0.63, 0.63, 0.63, 0.63, 0.63]\n",
        "      min_std = [3.25, 2.20, 6.14, 2.63, 2.10, 3.23, 2.34, 0.38, 0.53, 0.53, 0.53, 0.53, 0.53]\n",
        "\n",
        "    elif partNo == \"0162B00200\":\n",
        "      max_std = [3.35, 2.30, 6.30, 2.77, 3.37, 2.54, 0.42, 2.30, 0.63, 0.63, 0.63, 0.63, 0.63]\n",
        "      min_std = [3.25, 2.20, 6.14, 2.63, 3.23, 2.34, 0.38, 2.10, 0.53, 0.53, 0.53, 0.53, 0.53]\n",
        "\n",
        "    elif partNo == \"0162B00200-1\":\n",
        "      max_std = [2.28, 2.28, 2.28, 2.28, 3.35, 3.35, 2.29, 2.29, 10.48, 14.50, 1.19, 1.36, 136.50]\n",
        "      min_std = [2.12, 2.12, 2.12, 2.12, 3.25, 3.25, 2.21, 2.21, 10.32, 14.10, 1.13, 1.20, 133.50]\n",
        "\n",
        "    elif partNo == \"0162B01100\":\n",
        "      max_std = [3.35, 2.30, 6.30, 2.77, 3.37, 2.54, 0.42, 2.30, 0.63, 0.63, 0.63, 0.63, 0.63]\n",
        "      min_std = [3.25, 2.20, 6.14, 2.63, 3.23, 2.34, 0.38, 2.10, 0.53, 0.53, 0.53, 0.53, 0.53]\n",
        "\n",
        "    elif partNo == \"0162B01100-1\":\n",
        "      max_std = [2.28, 2.28, 2.28, 2.28, 3.35, 3.35, 2.29, 2.29, 10.48, 14.50, 1.19, 1.36, 136.50]\n",
        "      min_std = [2.12, 2.12, 2.12, 2.12, 3.25, 3.25, 2.21, 2.21, 10.32, 14.10, 1.13, 1.20, 133.50]\n",
        "\n",
        "    else:\n",
        "      return \"Error\"\n",
        "  \n",
        "    #真實不良 預測不良\n",
        "    for detail_num in range(13):\n",
        "      if (Y_test[data_num][detail_num] > max_std[detail_num] and pred[data_num][detail_num] > max_std[detail_num]):\n",
        "        detail_00_max_wrong[detail_num] += 1\n",
        "      \n",
        "      if (Y_test[data_num][detail_num+13] < min_std[detail_num] and pred[data_num][detail_num+13] < min_std[detail_num]):\n",
        "        detail_00_min_wrong[detail_num] += 1\n",
        "\n",
        "    #真實不良 預測良\n",
        "      if (Y_test[data_num][detail_num] > max_std[detail_num] and pred[data_num][detail_num] <= max_std[detail_num]):   \n",
        "        detail_01_max_wrong[detail_num] += 1\n",
        "      \n",
        "      if (Y_test[data_num][detail_num+13] < min_std[detail_num] and pred[data_num][detail_num+13] >= min_std[detail_num]):   \n",
        "        detail_01_min_wrong[detail_num] += 1\n",
        "    \n",
        "    #真實良 預測不良\n",
        "      if (Y_test[data_num][detail_num] <= max_std[detail_num] and pred[data_num][detail_num] > max_std[detail_num]): \n",
        "        detail_10_max_wrong[detail_num] += 1\n",
        "      if (Y_test[data_num][detail_num+13] >= min_std[detail_num] and pred[data_num][detail_num+13] < min_std[detail_num]):\n",
        "        detail_10_min_wrong[detail_num] += 1\n",
        "\n",
        "  return measure"
      ],
      "metadata": {
        "id": "XRZdTgIadjfc"
      },
      "execution_count": null,
      "outputs": []
    },
    {
      "cell_type": "code",
      "source": [
        "\"\"\"\n",
        "Execute example\n",
        "\"\"\"\n",
        "detail_00_max_wrong = np.zeros(13)\n",
        "detail_00_min_wrong = np.zeros(13)\n",
        "detail_01_max_wrong = np.zeros(13)\n",
        "detail_01_min_wrong = np.zeros(13)\n",
        "detail_10_max_wrong = np.zeros(13)\n",
        "detail_10_min_wrong = np.zeros(13)\n",
        "\n",
        "measure_std(partNo)\n",
        "detail_wrong_pic(detail_00_max_wrong, detail_00_min_wrong, detail_01_max_wrong, detail_01_min_wrong, detail_10_max_wrong, detail_10_min_wrong)"
      ],
      "metadata": {
        "colab": {
          "base_uri": "https://localhost:8080/",
          "height": 265
        },
        "id": "rhlghFh1fgXZ",
        "outputId": "1de7602f-8db6-4ee4-df89-6053c7e0eb94"
      },
      "execution_count": null,
      "outputs": [
        {
          "output_type": "display_data",
          "data": {
            "text/plain": [
              "<Figure size 864x288 with 1 Axes>"
            ],
            "image/png": "[encoded data removed]"
          },
          "metadata": {
            "needs_background": "light"
          }
        }
      ]
    },
    {
      "cell_type": "markdown",
      "source": [
        "#SHAP "
      ],
      "metadata": {
        "id": "cEPLi2vorY3h"
      }
    },
    {
      "cell_type": "code",
      "source": [
        "\"\"\"\n",
        "SHAP calculator, using SHAP github: https://github.com/slundberg/shap\n",
        "And save the 'shap.npy' for analysis\n",
        "\"\"\"\n",
        "!pip install shap\n",
        "import shap\n",
        "\n",
        "def shap_calculator(train, test):\n",
        "  X_train = torch.tensor(train).to(torch.float32)\n",
        "  X_test = torch.tensor(test).to(torch.float32)\n",
        "  print(X_test.shape)\n",
        "  features = ['Speed', 'Status', 'Frequency']\n",
        "\n",
        "  #should only something like 100 or 1000 random background samples, not the whole training dataset.\n",
        "  explainer = shap.DeepExplainer(model, X_train[:100]) \n",
        "  shap_values_all = explainer.shap_values(X_test)\n",
        "\n",
        "  np.save(folder_path+'shap.npy', shap_values_all)\n",
        "\n",
        "  X = np.array(shap_values_all).reshape(-1,sequence_num,3) #reshape the data for plot\n",
        "  print(X.shape)\n",
        "\n",
        "  shap.summary_plot(X[:, 0, :], X_test[:][:, 0, :], plot_type=\"bar\", feature_names = features, plot_size=(15,5))"
      ],
      "metadata": {
        "id": "ShxqMCwXkSOm",
        "colab": {
          "base_uri": "https://localhost:8080/"
        },
        "outputId": "ff08ec2c-b199-4ea3-927e-8c350baadcc8"
      },
      "execution_count": null,
      "outputs": [
        {
          "output_type": "stream",
          "name": "stdout",
          "text": [
            "Requirement already satisfied: shap in /usr/local/lib/python3.7/dist-packages (0.40.0)\n",
            "Requirement already satisfied: cloudpickle in /usr/local/lib/python3.7/dist-packages (from shap) (1.3.0)\n",
            "Requirement already satisfied: scipy in /usr/local/lib/python3.7/dist-packages (from shap) (1.4.1)\n",
            "Requirement already satisfied: slicer==0.0.7 in /usr/local/lib/python3.7/dist-packages (from shap) (0.0.7)\n",
            "Requirement already satisfied: packaging>20.9 in /usr/local/lib/python3.7/dist-packages (from shap) (21.3)\n",
            "Requirement already satisfied: numba in /usr/local/lib/python3.7/dist-packages (from shap) (0.51.2)\n",
            "Requirement already satisfied: tqdm>4.25.0 in /usr/local/lib/python3.7/dist-packages (from shap) (4.64.0)\n",
            "Requirement already satisfied: numpy in /usr/local/lib/python3.7/dist-packages (from shap) (1.21.6)\n",
            "Requirement already satisfied: pandas in /usr/local/lib/python3.7/dist-packages (from shap) (1.3.5)\n",
            "Requirement already satisfied: scikit-learn in /usr/local/lib/python3.7/dist-packages (from shap) (1.0.2)\n",
            "Requirement already satisfied: pyparsing!=3.0.5,>=2.0.2 in /usr/local/lib/python3.7/dist-packages (from packaging>20.9->shap) (3.0.9)\n",
            "Requirement already satisfied: llvmlite<0.35,>=0.34.0.dev0 in /usr/local/lib/python3.7/dist-packages (from numba->shap) (0.34.0)\n",
            "Requirement already satisfied: setuptools in /usr/local/lib/python3.7/dist-packages (from numba->shap) (57.4.0)\n",
            "Requirement already satisfied: python-dateutil>=2.7.3 in /usr/local/lib/python3.7/dist-packages (from pandas->shap) (2.8.2)\n",
            "Requirement already satisfied: pytz>=2017.3 in /usr/local/lib/python3.7/dist-packages (from pandas->shap) (2022.1)\n",
            "Requirement already satisfied: six>=1.5 in /usr/local/lib/python3.7/dist-packages (from python-dateutil>=2.7.3->pandas->shap) (1.15.0)\n",
            "Requirement already satisfied: threadpoolctl>=2.0.0 in /usr/local/lib/python3.7/dist-packages (from scikit-learn->shap) (3.1.0)\n",
            "Requirement already satisfied: joblib>=0.11 in /usr/local/lib/python3.7/dist-packages (from scikit-learn->shap) (1.1.0)\n"
          ]
        }
      ]
    },
    {
      "cell_type": "code",
      "source": [
        "\"\"\"\n",
        "SHAP calculator using 'x_test.npy' for example\n",
        "\"\"\"\n",
        "X_test = np.load(folder_path + 'x_test.npy')\n",
        "shap_calculator(X_train, X_test)"
      ],
      "metadata": {
        "colab": {
          "base_uri": "https://localhost:8080/",
          "height": 426
        },
        "id": "8sQLjg6Y11s2",
        "outputId": "4c77d932-a549-4746-b742-5ba830bbb733"
      },
      "execution_count": null,
      "outputs": [
        {
          "output_type": "stream",
          "name": "stdout",
          "text": [
            "torch.Size([144, 100, 3])\n"
          ]
        },
        {
          "output_type": "stream",
          "name": "stderr",
          "text": [
            "Using a non-full backward hook when the forward contains multiple autograd Nodes is deprecated and will be removed in future versions. This hook will be missing some grad_input. Please use register_full_backward_hook to get the documented behavior.\n",
            "Using non-full backward hooks on a Module that does not return a single Tensor or a tuple of Tensors is deprecated and will be removed in future versions. This hook will be missing some of the grad_output. Please use register_full_backward_hook to get the documented behavior.\n"
          ]
        },
        {
          "output_type": "stream",
          "name": "stdout",
          "text": [
            "(3744, 100, 3)\n"
          ]
        },
        {
          "output_type": "display_data",
          "data": {
            "text/plain": [
              "<Figure size 1080x360 with 1 Axes>"
            ],
            "image/png": "[encoded data removed]"
          },
          "metadata": {
            "needs_background": "light"
          }
        }
      ]
    },
    {
      "cell_type": "markdown",
      "source": [
        "#SHAP heatmap picture from load data"
      ],
      "metadata": {
        "id": "u9PmGFvpylOU"
      }
    },
    {
      "cell_type": "code",
      "source": [
        "\"\"\"\n",
        "Calculator each feature SHAP value, and the sum of SHAP value\n",
        "\"\"\"\n",
        "import seaborn as sns\n",
        "\n",
        "def shap_feature_calculator(load=True):\n",
        "  if load:\n",
        "    folder_path = folder\n",
        "    file_name = fname\n",
        "    shap_values_all = np.load(folder_path+str(file_name))\n",
        "\n",
        "  shap_value = np.array(abs(shap_values_all))\n",
        "  shap_values = np.sum(shap_value, axis=1)\n",
        "  shap_values = np.sum(shap_values, axis=0)\n",
        "  shap_values = np.sum(shap_values, axis=0)\n",
        "\n",
        "  num = 0\n",
        "  \n",
        "  for num in range(len(shap_values)):\n",
        "    value = shap_values[num]\n",
        "    values.append(value)\n",
        "\n",
        "  shap_values_sum = np.sum(shap_value)\n",
        "\n",
        "  return shap_values_sum\n",
        "\n",
        "\"\"\"\n",
        "Show the heatmap of feature and sequence\n",
        "\"\"\"\n",
        "def shap_feature_sequence(load=True):\n",
        "  if load:\n",
        "    folder_path = folder\n",
        "    file_name = fname\n",
        "    shap_values_all = np.load(folder_path+str(file_name))\n",
        "\n",
        "  shap_values_sum = shap_feature_calculator()\n",
        "\n",
        "  shap_value = np.array(abs(shap_values_all))\n",
        "  shap_values = np.sum(shap_value, axis=1)\n",
        "  shap_values = np.sum(shap_values, axis=0)\n",
        "\n",
        "  plt.figure(figsize=(20,2)) \n",
        "  sns.heatmap(shap_values.T, linewidth=0.0,cmap=\"Blues\",yticklabels =['Speed', 'Status', 'Frequency'])\n",
        "  plt.xlabel(\"Sequence\")\n",
        "  plt.show()\n",
        "\n",
        "  for num in range(len(values)):\n",
        "    value = values[num]/shap_values_sum\n",
        "    print('Feature {0:10}:   {1:10.5f} %'.format(features[num], value*100))\n",
        "\n",
        "\"\"\"\n",
        "Show the heatmap of feature and data\n",
        "\"\"\"\n",
        "def shap_feature_data(load=True):\n",
        "  if load:\n",
        "    folder_path = folder\n",
        "    file_name = fname\n",
        "    shap_values_all = np.load(folder_path+str(file_name))\n",
        "  \n",
        "  shap_value = np.array(abs(shap_values_all))\n",
        "  shap_values = np.sum(shap_value, axis=2)\n",
        "  shap_values = np.sum(shap_values, axis=0)\n",
        "\n",
        "  plt.figure(figsize=(20,2)) \n",
        "  sns.heatmap(shap_values.T, linewidth=0.0,cmap=\"Blues\",yticklabels =['Speed', 'Status', 'Frequency'])\n",
        "  plt.xlabel(\"Data\")\n",
        "  plt.show()\n",
        "\n",
        "\"\"\"\n",
        "Show the heatmap of feature and detail\n",
        "\"\"\"\n",
        "def shap_feature_detail(load=True):\n",
        "  if load:\n",
        "    folder_path = folder\n",
        "    file_name = fname\n",
        "    shap_values_all = np.load(folder_path+str(file_name))\n",
        "  \n",
        "  shap_value = np.array(abs(shap_values_all))\n",
        "  shap_values = np.sum(shap_value, axis=1)\n",
        "  shap_values = np.sum(shap_values, axis=1)\n",
        "\n",
        "  shap_values_add = np.add(shap_values[0:13], shap_values[13:26])\n",
        "\n",
        "  plt.figure(figsize=(20,2)) \n",
        "  sns.heatmap(shap_values_add.T, linewidth=0.0,cmap=\"Blues\", xticklabels=detail, yticklabels =['Speed', 'Status', 'Frequency'])\n",
        "  plt.xlabel(\"detail\")\n",
        "  plt.show()\n",
        "\n",
        "  detail_value_sum = np.sum(shap_values_add, axis=1)\n",
        "\n",
        "  for i in range(13):\n",
        "    print(\"detail\"+str(i+1))\n",
        "    for num in range(3):\n",
        "      value = shap_values_add[i][num]/detail_value_sum[i]\n",
        "      print('Feature {0:10}:   {1:10.5f} %'.format(features[num], value*100))\n",
        "\n",
        "\"\"\"\n",
        "Show the heatmap of data and sequence\n",
        "\"\"\"\n",
        "def shap_data_sequence(load=True):\n",
        "  if load:\n",
        "    folder_path = folder\n",
        "    file_name = fname\n",
        "    shap_values_all = np.load(folder_path+str(file_name))\n",
        "\n",
        "  shap_value = np.array(abs(shap_values_all))\n",
        "  shap_values = np.sum(shap_value, axis=3)\n",
        "  shap_values = np.sum(shap_values, axis=0)\n",
        "\n",
        "  plt.figure(figsize=(20,5)) \n",
        "  sns.heatmap(shap_values, linewidth=0.0,cmap=\"Blues\", yticklabels=False)\n",
        "  plt.xlabel(\"Sequence\")\n",
        "  plt.ylabel(\"Data\")\n",
        "  plt.show()\n",
        "\n",
        "\"\"\"\n",
        "Show the heatmap of detail and sequence\n",
        "\"\"\"\n",
        "def shap_detail_sequence(load=True):\n",
        "  if load:\n",
        "    folder_path = folder\n",
        "    file_name = fname\n",
        "    shap_values_all = np.load(folder_path+str(file_name))\n",
        "\n",
        "  shap_value = np.array(abs(shap_values_all))\n",
        "  shap_values = np.sum(shap_value, axis=1)\n",
        "  shap_values = np.sum(shap_values, axis=2)\n",
        "\n",
        "  shap_values_add = np.add(shap_values[0:13], shap_values[13:26])\n",
        "\n",
        "  plt.figure(figsize=(20,5)) \n",
        "  sns.heatmap(shap_values[0:13], linewidth=0.0,cmap=\"Blues\", yticklabels=detail)\n",
        "  plt.xlabel(\"Sequence\")\n",
        "  plt.ylabel(\"detail max\")\n",
        "  plt.show()\n",
        "\n",
        "  plt.figure(figsize=(20,5)) \n",
        "  sns.heatmap(shap_values[13:26], linewidth=0.0,cmap=\"Blues\", yticklabels=detail)\n",
        "  plt.xlabel(\"Sequence\")\n",
        "  plt.ylabel(\"detail min\")\n",
        "  plt.show()\n",
        "\n",
        "  plt.figure(figsize=(20,5)) \n",
        "  sns.heatmap(shap_values_add, linewidth=0.0,cmap=\"Blues\", yticklabels=detail)\n",
        "  plt.xlabel(\"Sequence\")\n",
        "  plt.ylabel(\"detail\")\n",
        "  plt.show()"
      ],
      "metadata": {
        "id": "Nybn8km9yt39"
      },
      "execution_count": null,
      "outputs": []
    },
    {
      "cell_type": "code",
      "source": [
        "\"\"\"\n",
        "using 'shap.npy' from 'x_test.npy' for example\n",
        "\"\"\"\n",
        "values = []\n",
        "shap_values_sum = 0\n",
        "features = ['Speed', 'Status', 'Frequency']\n",
        "detail = []\n",
        "for i in range(1,14):\n",
        "  detail.append(str(i))\n",
        "\n",
        "sequence_num = 100\n",
        "\n",
        "# put shap npy file path, ex: 'shap.npy'\n",
        "folder = folder_path\n",
        "fname = 'shap.npy'\n",
        "  \n",
        "shap_feature_sequence(load=True)\n",
        "shap_feature_data(load=True)\n",
        "shap_feature_detail(load=True)\n",
        "shap_data_sequence(load=True)\n",
        "shap_detail_sequence(load=True)"
      ],
      "metadata": {
        "id": "RfKOGeVgr45w",
        "colab": {
          "base_uri": "https://localhost:8080/",
          "height": 1000
        },
        "outputId": "c00898da-a9db-4e8a-edb8-e6d081e9267a"
      },
      "execution_count": null,
      "outputs": [
        {
          "output_type": "display_data",
          "data": {
            "text/plain": [
              "<Figure size 1440x144 with 2 Axes>"
            ],
            "image/png": "[encoded data removed]"
          },
          "metadata": {
            "needs_background": "light"
          }
        },
        {
          "output_type": "stream",
          "name": "stdout",
          "text": [
            "Feature Speed     :     98.65703 %\n",
            "Feature Status    :      0.55220 %\n",
            "Feature Frequency :      0.79076 %\n"
          ]
        },
        {
          "output_type": "display_data",
          "data": {
            "text/plain": [
              "<Figure size 1440x144 with 2 Axes>"
            ],
            "image/png": "[encoded data removed]"
          },
          "metadata": {
            "needs_background": "light"
          }
        },
        {
          "output_type": "display_data",
          "data": {
            "text/plain": [
              "<Figure size 1440x144 with 2 Axes>"
            ],
            "image/png": "[encoded data removed]"
          },
          "metadata": {
            "needs_background": "light"
          }
        },
        {
          "output_type": "stream",
          "name": "stdout",
          "text": [
            "detail1\n",
            "Feature Speed     :     98.62246 %\n",
            "Feature Status    :      0.54904 %\n",
            "Feature Frequency :      0.82851 %\n",
            "detail2\n",
            "Feature Speed     :     98.58638 %\n",
            "Feature Status    :      0.58115 %\n",
            "Feature Frequency :      0.83247 %\n",
            "detail3\n",
            "Feature Speed     :     98.65375 %\n",
            "Feature Status    :      0.59681 %\n",
            "Feature Frequency :      0.74944 %\n",
            "detail4\n",
            "Feature Speed     :     98.74762 %\n",
            "Feature Status    :      0.49875 %\n",
            "Feature Frequency :      0.75363 %\n",
            "detail5\n",
            "Feature Speed     :     98.80349 %\n",
            "Feature Status    :      0.50007 %\n",
            "Feature Frequency :      0.69644 %\n",
            "detail6\n",
            "Feature Speed     :     98.63087 %\n",
            "Feature Status    :      0.58450 %\n",
            "Feature Frequency :      0.78463 %\n",
            "detail7\n",
            "Feature Speed     :     98.68460 %\n",
            "Feature Status    :      0.53459 %\n",
            "Feature Frequency :      0.78082 %\n",
            "detail8\n",
            "Feature Speed     :     98.63263 %\n",
            "Feature Status    :      0.56904 %\n",
            "Feature Frequency :      0.79834 %\n",
            "detail9\n",
            "Feature Speed     :     98.79868 %\n",
            "Feature Status    :      0.52259 %\n",
            "Feature Frequency :      0.67873 %\n",
            "detail10\n",
            "Feature Speed     :     98.50748 %\n",
            "Feature Status    :      0.60095 %\n",
            "Feature Frequency :      0.89158 %\n",
            "detail11\n",
            "Feature Speed     :     98.59104 %\n",
            "Feature Status    :      0.54070 %\n",
            "Feature Frequency :      0.86827 %\n",
            "detail12\n",
            "Feature Speed     :     99.00267 %\n",
            "Feature Status    :      0.38723 %\n",
            "Feature Frequency :      0.61010 %\n",
            "detail13\n",
            "Feature Speed     :     98.62403 %\n",
            "Feature Status    :      0.51733 %\n",
            "Feature Frequency :      0.85864 %\n"
          ]
        },
        {
          "output_type": "display_data",
          "data": {
            "text/plain": [
              "<Figure size 1440x360 with 2 Axes>"
            ],
            "image/png": "[encoded data removed]"
          },
          "metadata": {
            "needs_background": "light"
          }
        },
        {
          "output_type": "display_data",
          "data": {
            "text/plain": [
              "<Figure size 1440x360 with 2 Axes>"
            ],
            "image/png": "[encoded data removed]"
          },
          "metadata": {
            "needs_background": "light"
          }
        },
        {
          "output_type": "display_data",
          "data": {
            "text/plain": [
              "<Figure size 1440x360 with 2 Axes>"
            ],
            "image/png": "[encoded data removed]"
          },
          "metadata": {
            "needs_background": "light"
          }
        },
        {
          "output_type": "display_data",
          "data": {
            "text/plain": [
              "<Figure size 1440x360 with 2 Axes>"
            ],
            "image/png": "[encoded data removed]"
          },
          "metadata": {
            "needs_background": "light"
          }
        }
      ]
    }
  ]
}