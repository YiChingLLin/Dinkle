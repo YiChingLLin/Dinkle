{
  "cells": [
    {
      "cell_type": "markdown",
      "source": [
        "#Prediction Data Preprocessing\n",
        "Input: \n",
        "> 沖壓機清洗後資料\n",
        "\n",
        "> 瞬測儀清洗後資料\n",
        "\n",
        "Output: \n",
        "> test: test data (data_num, sequence_num, feature_num)\n",
        "\n",
        "> label: test data start from which label(ID) (data_num, 1)"
      ],
      "metadata": {
        "id": "65GcUGpKxPGe"
      }
    },
    {
      "cell_type": "code",
      "execution_count": null,
      "metadata": {
        "colab": {
          "base_uri": "https://localhost:8080/"
        },
        "id": "2pXe_VJlQ6Zr",
        "outputId": "e0c9c7db-5871-451a-c2c8-940ce0339a9c"
      },
      "outputs": [
        {
          "output_type": "stream",
          "name": "stdout",
          "text": [
            "Mounted at /content/drive\n",
            "Sequence number:  100\n",
            "Slide number:  10\n"
          ]
        }
      ],
      "source": [
        "import pandas as pd\n",
        "import numpy as np\n",
        "import matplotlib.pyplot as plt\n",
        "\n",
        "# below is for loading data from google drive\n",
        "from google.colab import drive\n",
        "drive.mount('/content/drive', force_remount=True)\n",
        "\n",
        "sequence_num = 100  #資料期數\n",
        "slide_num = 10      #產生序列的slide間隔數, if slide_num = 5, 序列為n ~ n+sequence_num, n+5 ~ n+5+sequence_num\n",
        "print(\"Sequence number: \", sequence_num)\n",
        "print(\"Slide number: \", slide_num)\n",
        "\n",
        "# put your folder path, ex: '/content/drive/MyDrive/.../'\n",
        "folder_path = 'folderpath'"
      ]
    },
    {
      "cell_type": "code",
      "source": [
        "# put your data path, ex: '/content/drive/MyDrive/.../'\n",
        "input_data_machine = '沖壓機 file path' \n",
        "input_data_rate = '瞬測儀 file path'\n",
        "data_machine = pd.read_excel(input_data_machine, usecols=[\"編號\",\"frequency\",\"Speed\",\"Status\"])\n",
        "data_rate = pd.read_excel(input_data_rate)\n",
        "data_machine = data_machine.dropna()\n",
        "data_rate = data_rate.dropna()\n",
        "\n",
        "print(data_machine.head())\n",
        "print(data_rate.head())\n",
        "print(data_machine.shape)\n",
        "print(data_rate.shape)"
      ],
      "metadata": {
        "id": "zLlJhXOGseI9"
      },
      "execution_count": null,
      "outputs": []
    },
    {
      "cell_type": "markdown",
      "source": [
        "All package"
      ],
      "metadata": {
        "id": "gaZuAR7RvVDI"
      }
    },
    {
      "cell_type": "code",
      "execution_count": null,
      "metadata": {
        "id": "3CoZap9i24OZ"
      },
      "outputs": [],
      "source": [
        "# 只抓特定料號\n",
        "data_rate = data_rate[data_rate[\"料號\"] == \"0162B00100\"]"
      ]
    },
    {
      "cell_type": "markdown",
      "source": [
        "By specific package"
      ],
      "metadata": {
        "id": "3Ttc3nkTxZWS"
      }
    },
    {
      "cell_type": "code",
      "source": [
        "# 只抓特定料號、特定機台工單號\n",
        "data_rate = data_rate[data_rate[\"料號\"] == \"0162B00100\"]\n",
        "data_rate = data_rate[data_rate[\"產生檢驗單號的時間\"].str[14:] == \"D-001_101183683\"]"
      ],
      "metadata": {
        "id": "rcutAwAUun80"
      },
      "execution_count": null,
      "outputs": []
    },
    {
      "cell_type": "markdown",
      "source": [
        "By specific machine"
      ],
      "metadata": {
        "id": "XpYHl3kPxek1"
      }
    },
    {
      "cell_type": "code",
      "source": [
        "# 只抓特定料號、特定機台\n",
        "data_rate = data_rate[data_rate[\"料號\"] == \"0162B00100\"]\n",
        "data_rate = data_rate[data_rate[\"產生檢驗單號的時間\"].str[14:19] == \"D-005\"]"
      ],
      "metadata": {
        "id": "CslB74U_uy0t"
      },
      "execution_count": null,
      "outputs": []
    },
    {
      "cell_type": "code",
      "execution_count": null,
      "metadata": {
        "colab": {
          "base_uri": "https://localhost:8080/"
        },
        "id": "uLwWsWvDUQZz",
        "outputId": "828b4df2-8b0b-43f7-cca7-4bb67d56a596"
      },
      "outputs": [
        {
          "output_type": "stream",
          "name": "stdout",
          "text": [
            "沖壓機不重複編號個數:  351091\n",
            "瞬測儀不重複機台工單號個數:  86\n",
            "\n",
            "Total package number:  86\n",
            "Less than sequence_num data package:  13\n",
            "Usable package number:  73\n",
            "First package number:  1\n"
          ]
        }
      ],
      "source": [
        "\"\"\"\n",
        "將瞬測儀和機台數據資料分包&配對\n",
        "\"\"\"\n",
        "data_machine.set_index(\"編號\", inplace=True)\n",
        "all_data_machineId = np.array(data_machine.index.drop_duplicates(keep='first').values)\n",
        "data_machine.reset_index(inplace=True)\n",
        "\n",
        "data_rate.set_index(\"產生檢驗單號的時間\", inplace=True)\n",
        "all_data_rateId = np.array(data_rate.index.drop_duplicates(keep='first').values)\n",
        "data_rate.reset_index(inplace=True)\n",
        "\n",
        "# 取得瞬測儀機台工單號序列\n",
        "all_data_rateId_drop = pd.DataFrame()\n",
        "for data_rateId in all_data_rateId:\n",
        "  rateId = pd.Series(data_rateId[14:29]) #機台工單號\n",
        "  all_data_rateId_drop = pd.concat([all_data_rateId_drop, rateId])\n",
        "\n",
        "all_data_rateId_drop = all_data_rateId_drop.drop_duplicates() #去除重複機台工單號\n",
        "all_data_rateId_drop = np.array(all_data_rateId_drop.values)\n",
        "\n",
        "print(\"沖壓機不重複編號個數: \", all_data_machineId.size)\n",
        "print(\"瞬測儀不重複機台工單號個數: \", all_data_rateId_drop.size)\n",
        "\n",
        "pkg_num = 0\n",
        "\n",
        "\"\"\"\n",
        "機台資料以同機台同工單號分包\n",
        "\"\"\"\n",
        "for data_rateId in all_data_rateId_drop:\n",
        "  data_machineId = str(data_rateId.tolist())[2:17] #指定為瞬測儀機台工單號\n",
        "\n",
        "  pkg_num += 1\n",
        "  globals()['x_'+str(pkg_num)] = data_machine[data_machine[\"編號\"].str.contains(data_machineId)] #取得該機台工單號的機台資料\n",
        "\n",
        "max_pkg_num = pkg_num\n",
        "print()\n",
        "print(\"Total package number: \", max_pkg_num)\n",
        "\n",
        "\"\"\"\n",
        "計算筆數小於sequence_num筆包數\n",
        "\"\"\"\n",
        "usable_pkg = 0\n",
        "lessthan = 0\n",
        "\n",
        "for pkg_num in range(1, max_pkg_num+1):\n",
        "  if len(globals()['x_'+str(pkg_num)]) < sequence_num:\n",
        "    lessthan += 1\n",
        "  else:\n",
        "    if usable_pkg == 0:\n",
        "      first_pkg = pkg_num \n",
        "    usable_pkg += 1\n",
        "\n",
        "print(\"Less than sequence_num data package: \",lessthan)\n",
        "print(\"Usable package number: \",usable_pkg)\n",
        "print(\"First package number: \",first_pkg)"
      ]
    },
    {
      "cell_type": "code",
      "execution_count": null,
      "metadata": {
        "colab": {
          "base_uri": "https://localhost:8080/"
        },
        "id": "pSttsdPj7J27",
        "outputId": "f4be2018-8dbb-4f77-9d49-15d6a50242ab"
      },
      "outputs": [
        {
          "output_type": "stream",
          "name": "stdout",
          "text": [
            "Usable sequence package number:  21564\n",
            "(100, 3)\n",
            "['2021112318:29_D-001_101368684']\n"
          ]
        }
      ],
      "source": [
        "\"\"\"\n",
        "機台資料取同機台同工單以slide_num筆產生sequence_num筆序列, 計算sequence筆數\n",
        "\"\"\"\n",
        "sequence_pkg_num = 0\n",
        "\n",
        "for pkg_num in range(1, max_pkg_num+1):\n",
        "  if len(globals()['x_'+str(pkg_num)]) < sequence_num:\n",
        "    pass\n",
        "  else:\n",
        "    for start_num in range(0, len(globals()['x_'+str(pkg_num)])-sequence_num, slide_num):\n",
        "      sequence_pkg_num += 1\n",
        "      globals()['x_sequence_'+str(sequence_pkg_num)] = globals()['x_'+str(pkg_num)][start_num:start_num+sequence_num]\n",
        "\n",
        "max_sequence_pkg_num = sequence_pkg_num\n",
        "\n",
        "for sequence_pkg_num in range(1, max_sequence_pkg_num+1):\n",
        "  globals()['label_sequence_'+str(sequence_pkg_num)] = pd.Series([globals()['x_sequence_'+str(sequence_pkg_num)][\"編號\"].iloc[0]]) #沖壓機序列第一筆之編號\n",
        "  globals()['x_sequence_'+str(sequence_pkg_num)] = globals()['x_sequence_'+str(sequence_pkg_num)].drop([\"編號\"], axis=1)           #沖壓機序列\n",
        "\n",
        "print(\"Usable sequence package number: \",max_sequence_pkg_num)\n",
        "print(globals()['x_sequence_'+str(max_sequence_pkg_num)].shape)       #(sequence_num, feature_num)\n",
        "print(globals()['label_sequence_'+str(max_sequence_pkg_num)].values)  #編號"
      ]
    },
    {
      "cell_type": "code",
      "execution_count": null,
      "metadata": {
        "id": "2ehZhyhGKyz-",
        "colab": {
          "base_uri": "https://localhost:8080/"
        },
        "outputId": "8a5da822-8a72-4599-9389-6c09c0f37171"
      },
      "outputs": [
        {
          "output_type": "stream",
          "name": "stdout",
          "text": [
            "(2156400, 3)\n",
            "(21564, 1)\n"
          ]
        }
      ],
      "source": [
        "\"\"\"\n",
        "依序存進data & label, 將pd格式轉為np格式\n",
        "\"\"\"\n",
        "for sequence_pkg_num in range(1, max_sequence_pkg_num+1):\n",
        "  if sequence_pkg_num == 1:\n",
        "    data = pd.DataFrame(globals()['x_sequence_'+str(sequence_pkg_num)])  \n",
        "    label = pd.DataFrame(globals()['label_sequence_'+str(sequence_pkg_num)])   \n",
        "  else:\n",
        "    data = pd.concat([data, pd.DataFrame(globals()['x_sequence_'+str(sequence_pkg_num)])])\n",
        "    label = pd.concat([label, pd.DataFrame(globals()['label_sequence_'+str(sequence_pkg_num)])])\n",
        "\n",
        "data = data.values\n",
        "label = label.values\n",
        "print(data.shape)     #(data_num*sequence_num, feature_num)\n",
        "print(label.shape)    #(data_num, output_num)"
      ]
    },
    {
      "cell_type": "code",
      "execution_count": null,
      "metadata": {
        "id": "yQzzdUQd-WRp",
        "colab": {
          "base_uri": "https://localhost:8080/"
        },
        "outputId": "f932f444-4762-4e17-e621-67d582c22af7"
      },
      "outputs": [
        {
          "output_type": "stream",
          "name": "stdout",
          "text": [
            "(21564, 100, 3)\n"
          ]
        }
      ],
      "source": [
        "\"\"\"\n",
        "將data從(data_num*sequence_num, feature_num)轉為(data_num, sequence_num, feature_num)\n",
        "\"\"\"\n",
        "slide_size = 0\n",
        "data_temp = []\n",
        "\n",
        "for sequence_pkg_num in range(1, max_sequence_pkg_num+1):\n",
        "  data_temp.append(data[slide_size:(slide_size+sequence_num), 0:3])\n",
        "  slide_size += sequence_num\n",
        "\n",
        "data = np.array(data_temp)\n",
        "print(data.shape)  #(data_num, sequence_num, feature_num)"
      ]
    },
    {
      "cell_type": "code",
      "execution_count": null,
      "metadata": {
        "id": "5A68e45Ne5kf",
        "colab": {
          "base_uri": "https://localhost:8080/"
        },
        "outputId": "e725bb79-0003-4555-a4cc-85e020899a21"
      },
      "outputs": [
        {
          "output_type": "stream",
          "name": "stdout",
          "text": [
            "(21564, 100, 3)\n",
            "(21564, 1)\n",
            "Done\n"
          ]
        }
      ],
      "source": [
        "\"\"\"\n",
        "將test data & label儲存為npy檔\n",
        "\"\"\"\n",
        "test = data\n",
        "label = label\n",
        "\n",
        "print(test.shape)\n",
        "print(label.shape)\n",
        "\n",
        "np.save(folder_path + 'test_all.npy', test)\n",
        "np.save(folder_path + 'label_all.npy', label)\n",
        "print(\"Done\")"
      ]
    }
  ],
  "metadata": {
    "colab": {
      "collapsed_sections": [],
      "name": "Dinkle_pred_preprocessing.ipynb",
      "provenance": []
    },
    "kernelspec": {
      "display_name": "Python 3",
      "name": "python3"
    },
    "language_info": {
      "name": "python"
    }
  },
  "nbformat": 4,
  "nbformat_minor": 0
}